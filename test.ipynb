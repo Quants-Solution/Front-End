{
 "cells": [
  {
   "cell_type": "code",
   "execution_count": 30,
   "metadata": {},
   "outputs": [],
   "source": [
    "import fmpsdk as fmp\n",
    "import pandas as pd\n",
    "import os\n",
    "from dotenv import load_dotenv\n",
    "load_dotenv()\n",
    "load_dotenv(\"./scripts/.env\")\n",
    "fmp_key = os.environ.get(\"FMP_KEY\")\n",
    "import plotly.express as px"
   ]
  },
  {
   "cell_type": "code",
   "execution_count": 12,
   "metadata": {},
   "outputs": [
    {
     "name": "stdout",
     "output_type": "stream",
     "text": [
      "Help on function cash_flow_statement in module fmpsdk.company_valuation:\n",
      "\n",
      "cash_flow_statement(apikey: str, symbol: str, period: str = 'annual', limit: int = 10, download: bool = False, filename: str = 'cash_flow_statement.csv') -> Optional[List[Dict]]\n",
      "    Query FMP /cash-flow-statement/ API.\n",
      "    \n",
      "    Display or download company's cash flow statement.\n",
      "    :param apikey: Your API key.\n",
      "    :param symbol: Company ticker.\n",
      "    :param period: 'quarter' or 'annual'.\n",
      "    :param limit: Number of rows to return.\n",
      "    :param download: True/False\n",
      "    :param filename: Name of saved file.\n",
      "    :return: A list of dictionaries.\n",
      "\n"
     ]
    }
   ],
   "source": [
    "help(fmp.cash_flow_statement)"
   ]
  },
  {
   "cell_type": "code",
   "execution_count": 64,
   "metadata": {},
   "outputs": [],
   "source": [
    "income = pd.DataFrame(fmp.income_statement(symbol=\"AMD\",apikey=fmp_key,period=\"quarter\"))[[\"date\",\"revenue\"]]"
   ]
  },
  {
   "cell_type": "code",
   "execution_count": 65,
   "metadata": {},
   "outputs": [
    {
     "data": {
      "text/html": [
       "<div>\n",
       "<style scoped>\n",
       "    .dataframe tbody tr th:only-of-type {\n",
       "        vertical-align: middle;\n",
       "    }\n",
       "\n",
       "    .dataframe tbody tr th {\n",
       "        vertical-align: top;\n",
       "    }\n",
       "\n",
       "    .dataframe thead th {\n",
       "        text-align: right;\n",
       "    }\n",
       "</style>\n",
       "<table border=\"1\" class=\"dataframe\">\n",
       "  <thead>\n",
       "    <tr style=\"text-align: right;\">\n",
       "      <th></th>\n",
       "      <th>date</th>\n",
       "      <th>revenue</th>\n",
       "    </tr>\n",
       "  </thead>\n",
       "  <tbody>\n",
       "    <tr>\n",
       "      <th>0</th>\n",
       "      <td>2023-12-30</td>\n",
       "      <td>6168000000</td>\n",
       "    </tr>\n",
       "    <tr>\n",
       "      <th>1</th>\n",
       "      <td>2023-09-30</td>\n",
       "      <td>5800000000</td>\n",
       "    </tr>\n",
       "    <tr>\n",
       "      <th>2</th>\n",
       "      <td>2023-07-01</td>\n",
       "      <td>5359000000</td>\n",
       "    </tr>\n",
       "    <tr>\n",
       "      <th>3</th>\n",
       "      <td>2023-04-01</td>\n",
       "      <td>5353000000</td>\n",
       "    </tr>\n",
       "    <tr>\n",
       "      <th>4</th>\n",
       "      <td>2022-12-31</td>\n",
       "      <td>5599000000</td>\n",
       "    </tr>\n",
       "    <tr>\n",
       "      <th>5</th>\n",
       "      <td>2022-09-24</td>\n",
       "      <td>5565000000</td>\n",
       "    </tr>\n",
       "    <tr>\n",
       "      <th>6</th>\n",
       "      <td>2022-06-25</td>\n",
       "      <td>6550000000</td>\n",
       "    </tr>\n",
       "    <tr>\n",
       "      <th>7</th>\n",
       "      <td>2022-03-26</td>\n",
       "      <td>5887000000</td>\n",
       "    </tr>\n",
       "    <tr>\n",
       "      <th>8</th>\n",
       "      <td>2021-12-25</td>\n",
       "      <td>4826000000</td>\n",
       "    </tr>\n",
       "    <tr>\n",
       "      <th>9</th>\n",
       "      <td>2021-09-25</td>\n",
       "      <td>4313000000</td>\n",
       "    </tr>\n",
       "  </tbody>\n",
       "</table>\n",
       "</div>"
      ],
      "text/plain": [
       "         date     revenue\n",
       "0  2023-12-30  6168000000\n",
       "1  2023-09-30  5800000000\n",
       "2  2023-07-01  5359000000\n",
       "3  2023-04-01  5353000000\n",
       "4  2022-12-31  5599000000\n",
       "5  2022-09-24  5565000000\n",
       "6  2022-06-25  6550000000\n",
       "7  2022-03-26  5887000000\n",
       "8  2021-12-25  4826000000\n",
       "9  2021-09-25  4313000000"
      ]
     },
     "execution_count": 65,
     "metadata": {},
     "output_type": "execute_result"
    }
   ],
   "source": [
    "income"
   ]
  },
  {
   "cell_type": "code",
   "execution_count": 62,
   "metadata": {},
   "outputs": [],
   "source": [
    "balance = pd.DataFrame(fmp.cash_flow_statement(symbol=\"AMD\",apikey=fmp_key,period=\"quarter\"))[['date','inventory']]"
   ]
  },
  {
   "cell_type": "code",
   "execution_count": 66,
   "metadata": {},
   "outputs": [
    {
     "ename": "TypeError",
     "evalue": "unsupported operand type(s) for /: 'str' and 'str'",
     "output_type": "error",
     "traceback": [
      "\u001b[1;31m---------------------------------------------------------------------------\u001b[0m",
      "\u001b[1;31mTypeError\u001b[0m                                 Traceback (most recent call last)",
      "File \u001b[1;32mc:\\Users\\mehas\\anaconda\\envs\\start-up\\lib\\site-packages\\pandas\\core\\ops\\array_ops.py:218\u001b[0m, in \u001b[0;36m_na_arithmetic_op\u001b[1;34m(left, right, op, is_cmp)\u001b[0m\n\u001b[0;32m    217\u001b[0m \u001b[38;5;28;01mtry\u001b[39;00m:\n\u001b[1;32m--> 218\u001b[0m     result \u001b[38;5;241m=\u001b[39m \u001b[43mfunc\u001b[49m\u001b[43m(\u001b[49m\u001b[43mleft\u001b[49m\u001b[43m,\u001b[49m\u001b[43m \u001b[49m\u001b[43mright\u001b[49m\u001b[43m)\u001b[49m\n\u001b[0;32m    219\u001b[0m \u001b[38;5;28;01mexcept\u001b[39;00m \u001b[38;5;167;01mTypeError\u001b[39;00m:\n",
      "File \u001b[1;32mc:\\Users\\mehas\\anaconda\\envs\\start-up\\lib\\site-packages\\pandas\\core\\computation\\expressions.py:242\u001b[0m, in \u001b[0;36mevaluate\u001b[1;34m(op, a, b, use_numexpr)\u001b[0m\n\u001b[0;32m    240\u001b[0m     \u001b[38;5;28;01mif\u001b[39;00m use_numexpr:\n\u001b[0;32m    241\u001b[0m         \u001b[38;5;66;03m# error: \"None\" not callable\u001b[39;00m\n\u001b[1;32m--> 242\u001b[0m         \u001b[38;5;28;01mreturn\u001b[39;00m \u001b[43m_evaluate\u001b[49m\u001b[43m(\u001b[49m\u001b[43mop\u001b[49m\u001b[43m,\u001b[49m\u001b[43m \u001b[49m\u001b[43mop_str\u001b[49m\u001b[43m,\u001b[49m\u001b[43m \u001b[49m\u001b[43ma\u001b[49m\u001b[43m,\u001b[49m\u001b[43m \u001b[49m\u001b[43mb\u001b[49m\u001b[43m)\u001b[49m  \u001b[38;5;66;03m# type: ignore[misc]\u001b[39;00m\n\u001b[0;32m    243\u001b[0m \u001b[38;5;28;01mreturn\u001b[39;00m _evaluate_standard(op, op_str, a, b)\n",
      "File \u001b[1;32mc:\\Users\\mehas\\anaconda\\envs\\start-up\\lib\\site-packages\\pandas\\core\\computation\\expressions.py:73\u001b[0m, in \u001b[0;36m_evaluate_standard\u001b[1;34m(op, op_str, a, b)\u001b[0m\n\u001b[0;32m     72\u001b[0m     _store_test_result(\u001b[38;5;28;01mFalse\u001b[39;00m)\n\u001b[1;32m---> 73\u001b[0m \u001b[38;5;28;01mreturn\u001b[39;00m \u001b[43mop\u001b[49m\u001b[43m(\u001b[49m\u001b[43ma\u001b[49m\u001b[43m,\u001b[49m\u001b[43m \u001b[49m\u001b[43mb\u001b[49m\u001b[43m)\u001b[49m\n",
      "\u001b[1;31mTypeError\u001b[0m: unsupported operand type(s) for /: 'str' and 'str'",
      "\nDuring handling of the above exception, another exception occurred:\n",
      "\u001b[1;31mTypeError\u001b[0m                                 Traceback (most recent call last)",
      "Cell \u001b[1;32mIn[66], line 1\u001b[0m\n\u001b[1;32m----> 1\u001b[0m \u001b[43mbalance\u001b[49m\u001b[38;5;241;43m/\u001b[39;49m\u001b[43mincome\u001b[49m\n",
      "File \u001b[1;32mc:\\Users\\mehas\\anaconda\\envs\\start-up\\lib\\site-packages\\pandas\\core\\ops\\common.py:76\u001b[0m, in \u001b[0;36m_unpack_zerodim_and_defer.<locals>.new_method\u001b[1;34m(self, other)\u001b[0m\n\u001b[0;32m     72\u001b[0m             \u001b[38;5;28;01mreturn\u001b[39;00m \u001b[38;5;28mNotImplemented\u001b[39m\n\u001b[0;32m     74\u001b[0m other \u001b[38;5;241m=\u001b[39m item_from_zerodim(other)\n\u001b[1;32m---> 76\u001b[0m \u001b[38;5;28;01mreturn\u001b[39;00m \u001b[43mmethod\u001b[49m\u001b[43m(\u001b[49m\u001b[38;5;28;43mself\u001b[39;49m\u001b[43m,\u001b[49m\u001b[43m \u001b[49m\u001b[43mother\u001b[49m\u001b[43m)\u001b[49m\n",
      "File \u001b[1;32mc:\\Users\\mehas\\anaconda\\envs\\start-up\\lib\\site-packages\\pandas\\core\\arraylike.py:210\u001b[0m, in \u001b[0;36mOpsMixin.__truediv__\u001b[1;34m(self, other)\u001b[0m\n\u001b[0;32m    208\u001b[0m \u001b[38;5;129m@unpack_zerodim_and_defer\u001b[39m(\u001b[38;5;124m\"\u001b[39m\u001b[38;5;124m__truediv__\u001b[39m\u001b[38;5;124m\"\u001b[39m)\n\u001b[0;32m    209\u001b[0m \u001b[38;5;28;01mdef\u001b[39;00m \u001b[38;5;21m__truediv__\u001b[39m(\u001b[38;5;28mself\u001b[39m, other):\n\u001b[1;32m--> 210\u001b[0m     \u001b[38;5;28;01mreturn\u001b[39;00m \u001b[38;5;28;43mself\u001b[39;49m\u001b[38;5;241;43m.\u001b[39;49m\u001b[43m_arith_method\u001b[49m\u001b[43m(\u001b[49m\u001b[43mother\u001b[49m\u001b[43m,\u001b[49m\u001b[43m \u001b[49m\u001b[43moperator\u001b[49m\u001b[38;5;241;43m.\u001b[39;49m\u001b[43mtruediv\u001b[49m\u001b[43m)\u001b[49m\n",
      "File \u001b[1;32mc:\\Users\\mehas\\anaconda\\envs\\start-up\\lib\\site-packages\\pandas\\core\\frame.py:7905\u001b[0m, in \u001b[0;36mDataFrame._arith_method\u001b[1;34m(self, other, op)\u001b[0m\n\u001b[0;32m   7903\u001b[0m \u001b[38;5;28;01mdef\u001b[39;00m \u001b[38;5;21m_arith_method\u001b[39m(\u001b[38;5;28mself\u001b[39m, other, op):\n\u001b[0;32m   7904\u001b[0m     \u001b[38;5;28;01mif\u001b[39;00m \u001b[38;5;28mself\u001b[39m\u001b[38;5;241m.\u001b[39m_should_reindex_frame_op(other, op, \u001b[38;5;241m1\u001b[39m, \u001b[38;5;28;01mNone\u001b[39;00m, \u001b[38;5;28;01mNone\u001b[39;00m):\n\u001b[1;32m-> 7905\u001b[0m         \u001b[38;5;28;01mreturn\u001b[39;00m \u001b[38;5;28;43mself\u001b[39;49m\u001b[38;5;241;43m.\u001b[39;49m\u001b[43m_arith_method_with_reindex\u001b[49m\u001b[43m(\u001b[49m\u001b[43mother\u001b[49m\u001b[43m,\u001b[49m\u001b[43m \u001b[49m\u001b[43mop\u001b[49m\u001b[43m)\u001b[49m\n\u001b[0;32m   7907\u001b[0m     axis: Literal[\u001b[38;5;241m1\u001b[39m] \u001b[38;5;241m=\u001b[39m \u001b[38;5;241m1\u001b[39m  \u001b[38;5;66;03m# only relevant for Series other case\u001b[39;00m\n\u001b[0;32m   7908\u001b[0m     other \u001b[38;5;241m=\u001b[39m ops\u001b[38;5;241m.\u001b[39mmaybe_prepare_scalar_for_op(other, (\u001b[38;5;28mself\u001b[39m\u001b[38;5;241m.\u001b[39mshape[axis],))\n",
      "File \u001b[1;32mc:\\Users\\mehas\\anaconda\\envs\\start-up\\lib\\site-packages\\pandas\\core\\frame.py:8037\u001b[0m, in \u001b[0;36mDataFrame._arith_method_with_reindex\u001b[1;34m(self, right, op)\u001b[0m\n\u001b[0;32m   8035\u001b[0m new_left \u001b[38;5;241m=\u001b[39m left\u001b[38;5;241m.\u001b[39miloc[:, lcols]\n\u001b[0;32m   8036\u001b[0m new_right \u001b[38;5;241m=\u001b[39m right\u001b[38;5;241m.\u001b[39miloc[:, rcols]\n\u001b[1;32m-> 8037\u001b[0m result \u001b[38;5;241m=\u001b[39m \u001b[43mop\u001b[49m\u001b[43m(\u001b[49m\u001b[43mnew_left\u001b[49m\u001b[43m,\u001b[49m\u001b[43m \u001b[49m\u001b[43mnew_right\u001b[49m\u001b[43m)\u001b[49m\n\u001b[0;32m   8039\u001b[0m \u001b[38;5;66;03m# Do the join on the columns instead of using left._align_for_op\u001b[39;00m\n\u001b[0;32m   8040\u001b[0m \u001b[38;5;66;03m#  to avoid constructing two potentially large/sparse DataFrames\u001b[39;00m\n\u001b[0;32m   8041\u001b[0m join_columns, _, _ \u001b[38;5;241m=\u001b[39m left\u001b[38;5;241m.\u001b[39mcolumns\u001b[38;5;241m.\u001b[39mjoin(\n\u001b[0;32m   8042\u001b[0m     right\u001b[38;5;241m.\u001b[39mcolumns, how\u001b[38;5;241m=\u001b[39m\u001b[38;5;124m\"\u001b[39m\u001b[38;5;124mouter\u001b[39m\u001b[38;5;124m\"\u001b[39m, level\u001b[38;5;241m=\u001b[39m\u001b[38;5;28;01mNone\u001b[39;00m, return_indexers\u001b[38;5;241m=\u001b[39m\u001b[38;5;28;01mTrue\u001b[39;00m\n\u001b[0;32m   8043\u001b[0m )\n",
      "File \u001b[1;32mc:\\Users\\mehas\\anaconda\\envs\\start-up\\lib\\site-packages\\pandas\\core\\ops\\common.py:76\u001b[0m, in \u001b[0;36m_unpack_zerodim_and_defer.<locals>.new_method\u001b[1;34m(self, other)\u001b[0m\n\u001b[0;32m     72\u001b[0m             \u001b[38;5;28;01mreturn\u001b[39;00m \u001b[38;5;28mNotImplemented\u001b[39m\n\u001b[0;32m     74\u001b[0m other \u001b[38;5;241m=\u001b[39m item_from_zerodim(other)\n\u001b[1;32m---> 76\u001b[0m \u001b[38;5;28;01mreturn\u001b[39;00m \u001b[43mmethod\u001b[49m\u001b[43m(\u001b[49m\u001b[38;5;28;43mself\u001b[39;49m\u001b[43m,\u001b[49m\u001b[43m \u001b[49m\u001b[43mother\u001b[49m\u001b[43m)\u001b[49m\n",
      "File \u001b[1;32mc:\\Users\\mehas\\anaconda\\envs\\start-up\\lib\\site-packages\\pandas\\core\\arraylike.py:210\u001b[0m, in \u001b[0;36mOpsMixin.__truediv__\u001b[1;34m(self, other)\u001b[0m\n\u001b[0;32m    208\u001b[0m \u001b[38;5;129m@unpack_zerodim_and_defer\u001b[39m(\u001b[38;5;124m\"\u001b[39m\u001b[38;5;124m__truediv__\u001b[39m\u001b[38;5;124m\"\u001b[39m)\n\u001b[0;32m    209\u001b[0m \u001b[38;5;28;01mdef\u001b[39;00m \u001b[38;5;21m__truediv__\u001b[39m(\u001b[38;5;28mself\u001b[39m, other):\n\u001b[1;32m--> 210\u001b[0m     \u001b[38;5;28;01mreturn\u001b[39;00m \u001b[38;5;28;43mself\u001b[39;49m\u001b[38;5;241;43m.\u001b[39;49m\u001b[43m_arith_method\u001b[49m\u001b[43m(\u001b[49m\u001b[43mother\u001b[49m\u001b[43m,\u001b[49m\u001b[43m \u001b[49m\u001b[43moperator\u001b[49m\u001b[38;5;241;43m.\u001b[39;49m\u001b[43mtruediv\u001b[49m\u001b[43m)\u001b[49m\n",
      "File \u001b[1;32mc:\\Users\\mehas\\anaconda\\envs\\start-up\\lib\\site-packages\\pandas\\core\\frame.py:7913\u001b[0m, in \u001b[0;36mDataFrame._arith_method\u001b[1;34m(self, other, op)\u001b[0m\n\u001b[0;32m   7910\u001b[0m \u001b[38;5;28mself\u001b[39m, other \u001b[38;5;241m=\u001b[39m \u001b[38;5;28mself\u001b[39m\u001b[38;5;241m.\u001b[39m_align_for_op(other, axis, flex\u001b[38;5;241m=\u001b[39m\u001b[38;5;28;01mTrue\u001b[39;00m, level\u001b[38;5;241m=\u001b[39m\u001b[38;5;28;01mNone\u001b[39;00m)\n\u001b[0;32m   7912\u001b[0m \u001b[38;5;28;01mwith\u001b[39;00m np\u001b[38;5;241m.\u001b[39merrstate(\u001b[38;5;28mall\u001b[39m\u001b[38;5;241m=\u001b[39m\u001b[38;5;124m\"\u001b[39m\u001b[38;5;124mignore\u001b[39m\u001b[38;5;124m\"\u001b[39m):\n\u001b[1;32m-> 7913\u001b[0m     new_data \u001b[38;5;241m=\u001b[39m \u001b[38;5;28;43mself\u001b[39;49m\u001b[38;5;241;43m.\u001b[39;49m\u001b[43m_dispatch_frame_op\u001b[49m\u001b[43m(\u001b[49m\u001b[43mother\u001b[49m\u001b[43m,\u001b[49m\u001b[43m \u001b[49m\u001b[43mop\u001b[49m\u001b[43m,\u001b[49m\u001b[43m \u001b[49m\u001b[43maxis\u001b[49m\u001b[38;5;241;43m=\u001b[39;49m\u001b[43maxis\u001b[49m\u001b[43m)\u001b[49m\n\u001b[0;32m   7914\u001b[0m \u001b[38;5;28;01mreturn\u001b[39;00m \u001b[38;5;28mself\u001b[39m\u001b[38;5;241m.\u001b[39m_construct_result(new_data)\n",
      "File \u001b[1;32mc:\\Users\\mehas\\anaconda\\envs\\start-up\\lib\\site-packages\\pandas\\core\\frame.py:7956\u001b[0m, in \u001b[0;36mDataFrame._dispatch_frame_op\u001b[1;34m(self, right, func, axis)\u001b[0m\n\u001b[0;32m   7950\u001b[0m     \u001b[38;5;28;01massert\u001b[39;00m \u001b[38;5;28mself\u001b[39m\u001b[38;5;241m.\u001b[39mcolumns\u001b[38;5;241m.\u001b[39mequals(right\u001b[38;5;241m.\u001b[39mcolumns)\n\u001b[0;32m   7951\u001b[0m     \u001b[38;5;66;03m# TODO: The previous assertion `assert right._indexed_same(self)`\u001b[39;00m\n\u001b[0;32m   7952\u001b[0m     \u001b[38;5;66;03m#  fails in cases with empty columns reached via\u001b[39;00m\n\u001b[0;32m   7953\u001b[0m     \u001b[38;5;66;03m#  _frame_arith_method_with_reindex\u001b[39;00m\n\u001b[0;32m   7954\u001b[0m \n\u001b[0;32m   7955\u001b[0m     \u001b[38;5;66;03m# TODO operate_blockwise expects a manager of the same type\u001b[39;00m\n\u001b[1;32m-> 7956\u001b[0m     bm \u001b[38;5;241m=\u001b[39m \u001b[38;5;28;43mself\u001b[39;49m\u001b[38;5;241;43m.\u001b[39;49m\u001b[43m_mgr\u001b[49m\u001b[38;5;241;43m.\u001b[39;49m\u001b[43moperate_blockwise\u001b[49m\u001b[43m(\u001b[49m\n\u001b[0;32m   7957\u001b[0m \u001b[43m        \u001b[49m\u001b[38;5;66;43;03m# error: Argument 1 to \"operate_blockwise\" of \"ArrayManager\" has\u001b[39;49;00m\n\u001b[0;32m   7958\u001b[0m \u001b[43m        \u001b[49m\u001b[38;5;66;43;03m# incompatible type \"Union[ArrayManager, BlockManager]\"; expected\u001b[39;49;00m\n\u001b[0;32m   7959\u001b[0m \u001b[43m        \u001b[49m\u001b[38;5;66;43;03m# \"ArrayManager\"\u001b[39;49;00m\n\u001b[0;32m   7960\u001b[0m \u001b[43m        \u001b[49m\u001b[38;5;66;43;03m# error: Argument 1 to \"operate_blockwise\" of \"BlockManager\" has\u001b[39;49;00m\n\u001b[0;32m   7961\u001b[0m \u001b[43m        \u001b[49m\u001b[38;5;66;43;03m# incompatible type \"Union[ArrayManager, BlockManager]\"; expected\u001b[39;49;00m\n\u001b[0;32m   7962\u001b[0m \u001b[43m        \u001b[49m\u001b[38;5;66;43;03m# \"BlockManager\"\u001b[39;49;00m\n\u001b[0;32m   7963\u001b[0m \u001b[43m        \u001b[49m\u001b[43mright\u001b[49m\u001b[38;5;241;43m.\u001b[39;49m\u001b[43m_mgr\u001b[49m\u001b[43m,\u001b[49m\u001b[43m  \u001b[49m\u001b[38;5;66;43;03m# type: ignore[arg-type]\u001b[39;49;00m\n\u001b[0;32m   7964\u001b[0m \u001b[43m        \u001b[49m\u001b[43marray_op\u001b[49m\u001b[43m,\u001b[49m\n\u001b[0;32m   7965\u001b[0m \u001b[43m    \u001b[49m\u001b[43m)\u001b[49m\n\u001b[0;32m   7966\u001b[0m     \u001b[38;5;28;01mreturn\u001b[39;00m \u001b[38;5;28mself\u001b[39m\u001b[38;5;241m.\u001b[39m_constructor_from_mgr(bm, axes\u001b[38;5;241m=\u001b[39mbm\u001b[38;5;241m.\u001b[39maxes)\n\u001b[0;32m   7968\u001b[0m \u001b[38;5;28;01melif\u001b[39;00m \u001b[38;5;28misinstance\u001b[39m(right, Series) \u001b[38;5;129;01mand\u001b[39;00m axis \u001b[38;5;241m==\u001b[39m \u001b[38;5;241m1\u001b[39m:\n\u001b[0;32m   7969\u001b[0m     \u001b[38;5;66;03m# axis=1 means we want to operate row-by-row\u001b[39;00m\n",
      "File \u001b[1;32mc:\\Users\\mehas\\anaconda\\envs\\start-up\\lib\\site-packages\\pandas\\core\\internals\\managers.py:1511\u001b[0m, in \u001b[0;36mBlockManager.operate_blockwise\u001b[1;34m(self, other, array_op)\u001b[0m\n\u001b[0;32m   1507\u001b[0m \u001b[38;5;28;01mdef\u001b[39;00m \u001b[38;5;21moperate_blockwise\u001b[39m(\u001b[38;5;28mself\u001b[39m, other: BlockManager, array_op) \u001b[38;5;241m-\u001b[39m\u001b[38;5;241m>\u001b[39m BlockManager:\n\u001b[0;32m   1508\u001b[0m \u001b[38;5;250m    \u001b[39m\u001b[38;5;124;03m\"\"\"\u001b[39;00m\n\u001b[0;32m   1509\u001b[0m \u001b[38;5;124;03m    Apply array_op blockwise with another (aligned) BlockManager.\u001b[39;00m\n\u001b[0;32m   1510\u001b[0m \u001b[38;5;124;03m    \"\"\"\u001b[39;00m\n\u001b[1;32m-> 1511\u001b[0m     \u001b[38;5;28;01mreturn\u001b[39;00m \u001b[43moperate_blockwise\u001b[49m\u001b[43m(\u001b[49m\u001b[38;5;28;43mself\u001b[39;49m\u001b[43m,\u001b[49m\u001b[43m \u001b[49m\u001b[43mother\u001b[49m\u001b[43m,\u001b[49m\u001b[43m \u001b[49m\u001b[43marray_op\u001b[49m\u001b[43m)\u001b[49m\n",
      "File \u001b[1;32mc:\\Users\\mehas\\anaconda\\envs\\start-up\\lib\\site-packages\\pandas\\core\\internals\\ops.py:65\u001b[0m, in \u001b[0;36moperate_blockwise\u001b[1;34m(left, right, array_op)\u001b[0m\n\u001b[0;32m     63\u001b[0m res_blks: \u001b[38;5;28mlist\u001b[39m[Block] \u001b[38;5;241m=\u001b[39m []\n\u001b[0;32m     64\u001b[0m \u001b[38;5;28;01mfor\u001b[39;00m lvals, rvals, locs, left_ea, right_ea, rblk \u001b[38;5;129;01min\u001b[39;00m _iter_block_pairs(left, right):\n\u001b[1;32m---> 65\u001b[0m     res_values \u001b[38;5;241m=\u001b[39m \u001b[43marray_op\u001b[49m\u001b[43m(\u001b[49m\u001b[43mlvals\u001b[49m\u001b[43m,\u001b[49m\u001b[43m \u001b[49m\u001b[43mrvals\u001b[49m\u001b[43m)\u001b[49m\n\u001b[0;32m     66\u001b[0m     \u001b[38;5;28;01mif\u001b[39;00m (\n\u001b[0;32m     67\u001b[0m         left_ea\n\u001b[0;32m     68\u001b[0m         \u001b[38;5;129;01mand\u001b[39;00m \u001b[38;5;129;01mnot\u001b[39;00m right_ea\n\u001b[0;32m     69\u001b[0m         \u001b[38;5;129;01mand\u001b[39;00m \u001b[38;5;28mhasattr\u001b[39m(res_values, \u001b[38;5;124m\"\u001b[39m\u001b[38;5;124mreshape\u001b[39m\u001b[38;5;124m\"\u001b[39m)\n\u001b[0;32m     70\u001b[0m         \u001b[38;5;129;01mand\u001b[39;00m \u001b[38;5;129;01mnot\u001b[39;00m is_1d_only_ea_dtype(res_values\u001b[38;5;241m.\u001b[39mdtype)\n\u001b[0;32m     71\u001b[0m     ):\n\u001b[0;32m     72\u001b[0m         res_values \u001b[38;5;241m=\u001b[39m res_values\u001b[38;5;241m.\u001b[39mreshape(\u001b[38;5;241m1\u001b[39m, \u001b[38;5;241m-\u001b[39m\u001b[38;5;241m1\u001b[39m)\n",
      "File \u001b[1;32mc:\\Users\\mehas\\anaconda\\envs\\start-up\\lib\\site-packages\\pandas\\core\\ops\\array_ops.py:283\u001b[0m, in \u001b[0;36marithmetic_op\u001b[1;34m(left, right, op)\u001b[0m\n\u001b[0;32m    279\u001b[0m     _bool_arith_check(op, left, right)  \u001b[38;5;66;03m# type: ignore[arg-type]\u001b[39;00m\n\u001b[0;32m    281\u001b[0m     \u001b[38;5;66;03m# error: Argument 1 to \"_na_arithmetic_op\" has incompatible type\u001b[39;00m\n\u001b[0;32m    282\u001b[0m     \u001b[38;5;66;03m# \"Union[ExtensionArray, ndarray[Any, Any]]\"; expected \"ndarray[Any, Any]\"\u001b[39;00m\n\u001b[1;32m--> 283\u001b[0m     res_values \u001b[38;5;241m=\u001b[39m \u001b[43m_na_arithmetic_op\u001b[49m\u001b[43m(\u001b[49m\u001b[43mleft\u001b[49m\u001b[43m,\u001b[49m\u001b[43m \u001b[49m\u001b[43mright\u001b[49m\u001b[43m,\u001b[49m\u001b[43m \u001b[49m\u001b[43mop\u001b[49m\u001b[43m)\u001b[49m  \u001b[38;5;66;03m# type: ignore[arg-type]\u001b[39;00m\n\u001b[0;32m    285\u001b[0m \u001b[38;5;28;01mreturn\u001b[39;00m res_values\n",
      "File \u001b[1;32mc:\\Users\\mehas\\anaconda\\envs\\start-up\\lib\\site-packages\\pandas\\core\\ops\\array_ops.py:227\u001b[0m, in \u001b[0;36m_na_arithmetic_op\u001b[1;34m(left, right, op, is_cmp)\u001b[0m\n\u001b[0;32m    219\u001b[0m \u001b[38;5;28;01mexcept\u001b[39;00m \u001b[38;5;167;01mTypeError\u001b[39;00m:\n\u001b[0;32m    220\u001b[0m     \u001b[38;5;28;01mif\u001b[39;00m \u001b[38;5;129;01mnot\u001b[39;00m is_cmp \u001b[38;5;129;01mand\u001b[39;00m (\n\u001b[0;32m    221\u001b[0m         left\u001b[38;5;241m.\u001b[39mdtype \u001b[38;5;241m==\u001b[39m \u001b[38;5;28mobject\u001b[39m \u001b[38;5;129;01mor\u001b[39;00m \u001b[38;5;28mgetattr\u001b[39m(right, \u001b[38;5;124m\"\u001b[39m\u001b[38;5;124mdtype\u001b[39m\u001b[38;5;124m\"\u001b[39m, \u001b[38;5;28;01mNone\u001b[39;00m) \u001b[38;5;241m==\u001b[39m \u001b[38;5;28mobject\u001b[39m\n\u001b[0;32m    222\u001b[0m     ):\n\u001b[1;32m   (...)\u001b[0m\n\u001b[0;32m    225\u001b[0m         \u001b[38;5;66;03m# Don't do this for comparisons, as that will handle complex numbers\u001b[39;00m\n\u001b[0;32m    226\u001b[0m         \u001b[38;5;66;03m#  incorrectly, see GH#32047\u001b[39;00m\n\u001b[1;32m--> 227\u001b[0m         result \u001b[38;5;241m=\u001b[39m \u001b[43m_masked_arith_op\u001b[49m\u001b[43m(\u001b[49m\u001b[43mleft\u001b[49m\u001b[43m,\u001b[49m\u001b[43m \u001b[49m\u001b[43mright\u001b[49m\u001b[43m,\u001b[49m\u001b[43m \u001b[49m\u001b[43mop\u001b[49m\u001b[43m)\u001b[49m\n\u001b[0;32m    228\u001b[0m     \u001b[38;5;28;01melse\u001b[39;00m:\n\u001b[0;32m    229\u001b[0m         \u001b[38;5;28;01mraise\u001b[39;00m\n",
      "File \u001b[1;32mc:\\Users\\mehas\\anaconda\\envs\\start-up\\lib\\site-packages\\pandas\\core\\ops\\array_ops.py:163\u001b[0m, in \u001b[0;36m_masked_arith_op\u001b[1;34m(x, y, op)\u001b[0m\n\u001b[0;32m    161\u001b[0m     \u001b[38;5;66;03m# See GH#5284, GH#5035, GH#19448 for historical reference\u001b[39;00m\n\u001b[0;32m    162\u001b[0m     \u001b[38;5;28;01mif\u001b[39;00m mask\u001b[38;5;241m.\u001b[39many():\n\u001b[1;32m--> 163\u001b[0m         result[mask] \u001b[38;5;241m=\u001b[39m \u001b[43mop\u001b[49m\u001b[43m(\u001b[49m\u001b[43mxrav\u001b[49m\u001b[43m[\u001b[49m\u001b[43mmask\u001b[49m\u001b[43m]\u001b[49m\u001b[43m,\u001b[49m\u001b[43m \u001b[49m\u001b[43myrav\u001b[49m\u001b[43m[\u001b[49m\u001b[43mmask\u001b[49m\u001b[43m]\u001b[49m\u001b[43m)\u001b[49m\n\u001b[0;32m    165\u001b[0m \u001b[38;5;28;01melse\u001b[39;00m:\n\u001b[0;32m    166\u001b[0m     \u001b[38;5;28;01mif\u001b[39;00m \u001b[38;5;129;01mnot\u001b[39;00m is_scalar(y):\n",
      "\u001b[1;31mTypeError\u001b[0m: unsupported operand type(s) for /: 'str' and 'str'"
     ]
    }
   ],
   "source": []
  },
  {
   "cell_type": "code",
   "execution_count": 51,
   "metadata": {},
   "outputs": [],
   "source": [
    "data = pd.concat([income.date,revenue_by_inventory],axis=1)"
   ]
  },
  {
   "cell_type": "code",
   "execution_count": 56,
   "metadata": {},
   "outputs": [
    {
     "data": {
      "text/html": [
       "<div>\n",
       "<style scoped>\n",
       "    .dataframe tbody tr th:only-of-type {\n",
       "        vertical-align: middle;\n",
       "    }\n",
       "\n",
       "    .dataframe tbody tr th {\n",
       "        vertical-align: top;\n",
       "    }\n",
       "\n",
       "    .dataframe thead th {\n",
       "        text-align: right;\n",
       "    }\n",
       "</style>\n",
       "<table border=\"1\" class=\"dataframe\">\n",
       "  <thead>\n",
       "    <tr style=\"text-align: right;\">\n",
       "      <th></th>\n",
       "      <th>date</th>\n",
       "      <th>0</th>\n",
       "    </tr>\n",
       "  </thead>\n",
       "  <tbody>\n",
       "    <tr>\n",
       "      <th>0</th>\n",
       "      <td>2023-12-30</td>\n",
       "      <td>241.276596</td>\n",
       "    </tr>\n",
       "    <tr>\n",
       "      <th>1</th>\n",
       "      <td>2022-12-31</td>\n",
       "      <td>193.450820</td>\n",
       "    </tr>\n",
       "    <tr>\n",
       "      <th>2</th>\n",
       "      <td>2021-12-25</td>\n",
       "      <td>-49.500000</td>\n",
       "    </tr>\n",
       "    <tr>\n",
       "      <th>3</th>\n",
       "      <td>2020-12-26</td>\n",
       "      <td>-21.040948</td>\n",
       "    </tr>\n",
       "    <tr>\n",
       "      <th>4</th>\n",
       "      <td>2019-12-28</td>\n",
       "      <td>-16.660891</td>\n",
       "    </tr>\n",
       "    <tr>\n",
       "      <th>5</th>\n",
       "      <td>2018-12-29</td>\n",
       "      <td>-8.955740</td>\n",
       "    </tr>\n",
       "    <tr>\n",
       "      <th>6</th>\n",
       "      <td>2017-12-30</td>\n",
       "      <td>-21.487903</td>\n",
       "    </tr>\n",
       "    <tr>\n",
       "      <th>7</th>\n",
       "      <td>2016-12-31</td>\n",
       "      <td>-164.307692</td>\n",
       "    </tr>\n",
       "    <tr>\n",
       "      <th>8</th>\n",
       "      <td>2015-12-26</td>\n",
       "      <td>-76.750000</td>\n",
       "    </tr>\n",
       "    <tr>\n",
       "      <th>9</th>\n",
       "      <td>2014-12-27</td>\n",
       "      <td>-39.898551</td>\n",
       "    </tr>\n",
       "  </tbody>\n",
       "</table>\n",
       "</div>"
      ],
      "text/plain": [
       "         date           0\n",
       "0  2023-12-30  241.276596\n",
       "1  2022-12-31  193.450820\n",
       "2  2021-12-25  -49.500000\n",
       "3  2020-12-26  -21.040948\n",
       "4  2019-12-28  -16.660891\n",
       "5  2018-12-29   -8.955740\n",
       "6  2017-12-30  -21.487903\n",
       "7  2016-12-31 -164.307692\n",
       "8  2015-12-26  -76.750000\n",
       "9  2014-12-27  -39.898551"
      ]
     },
     "execution_count": 56,
     "metadata": {},
     "output_type": "execute_result"
    }
   ],
   "source": [
    "data"
   ]
  },
  {
   "cell_type": "code",
   "execution_count": 85,
   "metadata": {},
   "outputs": [],
   "source": [
    "def profitabilty(symbol, duration=\"quarter\"):\n",
    "    load_dotenv(\"./scripts/.env\")\n",
    "    fmp_key = os.environ.get(\"FMP_KEY\")\n",
    "\n",
    "    if isinstance(symbol, str):\n",
    "            symbols = [symbol]\n",
    "    elif isinstance(symbol, list):\n",
    "            symbols = symbol\n",
    "    else:\n",
    "        raise ValueError(\"Symbol must be a string or a list of strings\")\n",
    "    # Retrieve company profile\n",
    "\n",
    "    revenue_data = {}\n",
    "    for symbol in symbols:\n",
    "        revenue = pd.DataFrame(fmp.income_statement(symbol=symbol, apikey=fmp_key,period=\"quarter\"))[[\"date\",\"revenue\"]]\n",
    "        inventory = pd.DataFrame(fmp.cash_flow_statement(symbol=symbol ,apikey=fmp_key,period=\"quarter\"))[['date','inventory']]\n",
    "        revenue[symbol] = revenue[\"revenue\"] / inventory[\"inventory\"]\n",
    "        revenue_data[symbol] = revenue\n",
    "    # data = pd.DataFrame(revenue_data)\n",
    "    combined_data = pd.DataFrame()\n",
    "    for i, x in revenue_data.items():\n",
    "        date = x[\"date\"]\n",
    "        combined_data = pd.concat([combined_data, x[[i]]],axis=1,join=\"outer\")\n",
    "    combined_data[\"date\"] =  date\n",
    "    return combined_data"
   ]
  },
  {
   "cell_type": "code",
   "execution_count": 86,
   "metadata": {},
   "outputs": [],
   "source": [
    "prof = profitabilty([\"AMD\",\"NVDA\"])"
   ]
  },
  {
   "cell_type": "code",
   "execution_count": 95,
   "metadata": {},
   "outputs": [
    {
     "data": {
      "text/plain": [
       "{'AMD':          date     revenue         AMD\n",
       " 0  2023-12-30  6168000000   65.617021\n",
       " 1  2023-09-30  5800000000   47.540984\n",
       " 2  2023-07-01  5359000000  -16.141566\n",
       " 3  2023-04-01  5353000000  -11.536638\n",
       " 4  2022-12-31  5599000000  -13.858911\n",
       " 5  2022-09-24  5565000000   -7.697095\n",
       " 6  2022-06-25  6550000000  -26.411290\n",
       " 7  2022-03-26  5887000000 -226.423077\n",
       " 8  2021-12-25  4826000000  -92.807692\n",
       " 9  2021-09-25  4313000000  -31.253623,\n",
       " 'NVDA':          date      revenue       NVDA\n",
       " 0  2024-01-28  22103000000 -43.942346\n",
       " 1  2023-10-29  18120000000 -39.736842\n",
       " 2  2023-07-30  13507000000  45.786441\n",
       " 3  2023-04-30   7192000000  12.706714\n",
       " 4  2023-01-29   6051000000  -8.570822\n",
       " 5  2022-10-30   5931000000 -10.534636\n",
       " 6  2022-07-31   6704000000  -9.246897\n",
       " 7  2022-05-01   8288000000 -14.800000\n",
       " 8  2022-01-30   7643000000 -20.435829\n",
       " 9  2021-10-31   7103000000 -60.194915}"
      ]
     },
     "execution_count": 95,
     "metadata": {},
     "output_type": "execute_result"
    }
   ],
   "source": [
    "prof"
   ]
  },
  {
   "cell_type": "code",
   "execution_count": 87,
   "metadata": {},
   "outputs": [],
   "source": [
    "combined_data = pd.concat(prof.values())"
   ]
  },
  {
   "cell_type": "code",
   "execution_count": 88,
   "metadata": {},
   "outputs": [
    {
     "data": {
      "text/html": [
       "<div>\n",
       "<style scoped>\n",
       "    .dataframe tbody tr th:only-of-type {\n",
       "        vertical-align: middle;\n",
       "    }\n",
       "\n",
       "    .dataframe tbody tr th {\n",
       "        vertical-align: top;\n",
       "    }\n",
       "\n",
       "    .dataframe thead th {\n",
       "        text-align: right;\n",
       "    }\n",
       "</style>\n",
       "<table border=\"1\" class=\"dataframe\">\n",
       "  <thead>\n",
       "    <tr style=\"text-align: right;\">\n",
       "      <th></th>\n",
       "      <th>date</th>\n",
       "      <th>revenue</th>\n",
       "      <th>AMD</th>\n",
       "      <th>NVDA</th>\n",
       "    </tr>\n",
       "  </thead>\n",
       "  <tbody>\n",
       "    <tr>\n",
       "      <th>0</th>\n",
       "      <td>2023-12-30</td>\n",
       "      <td>6168000000</td>\n",
       "      <td>65.617021</td>\n",
       "      <td>NaN</td>\n",
       "    </tr>\n",
       "    <tr>\n",
       "      <th>1</th>\n",
       "      <td>2023-09-30</td>\n",
       "      <td>5800000000</td>\n",
       "      <td>47.540984</td>\n",
       "      <td>NaN</td>\n",
       "    </tr>\n",
       "    <tr>\n",
       "      <th>2</th>\n",
       "      <td>2023-07-01</td>\n",
       "      <td>5359000000</td>\n",
       "      <td>-16.141566</td>\n",
       "      <td>NaN</td>\n",
       "    </tr>\n",
       "    <tr>\n",
       "      <th>3</th>\n",
       "      <td>2023-04-01</td>\n",
       "      <td>5353000000</td>\n",
       "      <td>-11.536638</td>\n",
       "      <td>NaN</td>\n",
       "    </tr>\n",
       "    <tr>\n",
       "      <th>4</th>\n",
       "      <td>2022-12-31</td>\n",
       "      <td>5599000000</td>\n",
       "      <td>-13.858911</td>\n",
       "      <td>NaN</td>\n",
       "    </tr>\n",
       "    <tr>\n",
       "      <th>5</th>\n",
       "      <td>2022-09-24</td>\n",
       "      <td>5565000000</td>\n",
       "      <td>-7.697095</td>\n",
       "      <td>NaN</td>\n",
       "    </tr>\n",
       "    <tr>\n",
       "      <th>6</th>\n",
       "      <td>2022-06-25</td>\n",
       "      <td>6550000000</td>\n",
       "      <td>-26.411290</td>\n",
       "      <td>NaN</td>\n",
       "    </tr>\n",
       "    <tr>\n",
       "      <th>7</th>\n",
       "      <td>2022-03-26</td>\n",
       "      <td>5887000000</td>\n",
       "      <td>-226.423077</td>\n",
       "      <td>NaN</td>\n",
       "    </tr>\n",
       "    <tr>\n",
       "      <th>8</th>\n",
       "      <td>2021-12-25</td>\n",
       "      <td>4826000000</td>\n",
       "      <td>-92.807692</td>\n",
       "      <td>NaN</td>\n",
       "    </tr>\n",
       "    <tr>\n",
       "      <th>9</th>\n",
       "      <td>2021-09-25</td>\n",
       "      <td>4313000000</td>\n",
       "      <td>-31.253623</td>\n",
       "      <td>NaN</td>\n",
       "    </tr>\n",
       "    <tr>\n",
       "      <th>0</th>\n",
       "      <td>2024-01-28</td>\n",
       "      <td>22103000000</td>\n",
       "      <td>NaN</td>\n",
       "      <td>-43.942346</td>\n",
       "    </tr>\n",
       "    <tr>\n",
       "      <th>1</th>\n",
       "      <td>2023-10-29</td>\n",
       "      <td>18120000000</td>\n",
       "      <td>NaN</td>\n",
       "      <td>-39.736842</td>\n",
       "    </tr>\n",
       "    <tr>\n",
       "      <th>2</th>\n",
       "      <td>2023-07-30</td>\n",
       "      <td>13507000000</td>\n",
       "      <td>NaN</td>\n",
       "      <td>45.786441</td>\n",
       "    </tr>\n",
       "    <tr>\n",
       "      <th>3</th>\n",
       "      <td>2023-04-30</td>\n",
       "      <td>7192000000</td>\n",
       "      <td>NaN</td>\n",
       "      <td>12.706714</td>\n",
       "    </tr>\n",
       "    <tr>\n",
       "      <th>4</th>\n",
       "      <td>2023-01-29</td>\n",
       "      <td>6051000000</td>\n",
       "      <td>NaN</td>\n",
       "      <td>-8.570822</td>\n",
       "    </tr>\n",
       "    <tr>\n",
       "      <th>5</th>\n",
       "      <td>2022-10-30</td>\n",
       "      <td>5931000000</td>\n",
       "      <td>NaN</td>\n",
       "      <td>-10.534636</td>\n",
       "    </tr>\n",
       "    <tr>\n",
       "      <th>6</th>\n",
       "      <td>2022-07-31</td>\n",
       "      <td>6704000000</td>\n",
       "      <td>NaN</td>\n",
       "      <td>-9.246897</td>\n",
       "    </tr>\n",
       "    <tr>\n",
       "      <th>7</th>\n",
       "      <td>2022-05-01</td>\n",
       "      <td>8288000000</td>\n",
       "      <td>NaN</td>\n",
       "      <td>-14.800000</td>\n",
       "    </tr>\n",
       "    <tr>\n",
       "      <th>8</th>\n",
       "      <td>2022-01-30</td>\n",
       "      <td>7643000000</td>\n",
       "      <td>NaN</td>\n",
       "      <td>-20.435829</td>\n",
       "    </tr>\n",
       "    <tr>\n",
       "      <th>9</th>\n",
       "      <td>2021-10-31</td>\n",
       "      <td>7103000000</td>\n",
       "      <td>NaN</td>\n",
       "      <td>-60.194915</td>\n",
       "    </tr>\n",
       "  </tbody>\n",
       "</table>\n",
       "</div>"
      ],
      "text/plain": [
       "         date      revenue         AMD       NVDA\n",
       "0  2023-12-30   6168000000   65.617021        NaN\n",
       "1  2023-09-30   5800000000   47.540984        NaN\n",
       "2  2023-07-01   5359000000  -16.141566        NaN\n",
       "3  2023-04-01   5353000000  -11.536638        NaN\n",
       "4  2022-12-31   5599000000  -13.858911        NaN\n",
       "5  2022-09-24   5565000000   -7.697095        NaN\n",
       "6  2022-06-25   6550000000  -26.411290        NaN\n",
       "7  2022-03-26   5887000000 -226.423077        NaN\n",
       "8  2021-12-25   4826000000  -92.807692        NaN\n",
       "9  2021-09-25   4313000000  -31.253623        NaN\n",
       "0  2024-01-28  22103000000         NaN -43.942346\n",
       "1  2023-10-29  18120000000         NaN -39.736842\n",
       "2  2023-07-30  13507000000         NaN  45.786441\n",
       "3  2023-04-30   7192000000         NaN  12.706714\n",
       "4  2023-01-29   6051000000         NaN  -8.570822\n",
       "5  2022-10-30   5931000000         NaN -10.534636\n",
       "6  2022-07-31   6704000000         NaN  -9.246897\n",
       "7  2022-05-01   8288000000         NaN -14.800000\n",
       "8  2022-01-30   7643000000         NaN -20.435829\n",
       "9  2021-10-31   7103000000         NaN -60.194915"
      ]
     },
     "execution_count": 88,
     "metadata": {},
     "output_type": "execute_result"
    }
   ],
   "source": [
    "combined_data"
   ]
  },
  {
   "cell_type": "code",
   "execution_count": 96,
   "metadata": {},
   "outputs": [],
   "source": [
    "combined_data = pd.DataFrame()\n",
    "for i, x in prof.items():\n",
    "    date = x[\"date\"]\n",
    "    combined_data = pd.concat([combined_data, x[[i]]],axis=1,join=\"outer\")\n",
    "    \n",
    "combined_data[\"date\"] =  date\n"
   ]
  },
  {
   "cell_type": "code",
   "execution_count": 103,
   "metadata": {},
   "outputs": [
    {
     "data": {
      "text/html": [
       "<div>\n",
       "<style scoped>\n",
       "    .dataframe tbody tr th:only-of-type {\n",
       "        vertical-align: middle;\n",
       "    }\n",
       "\n",
       "    .dataframe tbody tr th {\n",
       "        vertical-align: top;\n",
       "    }\n",
       "\n",
       "    .dataframe thead th {\n",
       "        text-align: right;\n",
       "    }\n",
       "</style>\n",
       "<table border=\"1\" class=\"dataframe\">\n",
       "  <thead>\n",
       "    <tr style=\"text-align: right;\">\n",
       "      <th></th>\n",
       "      <th>AMD</th>\n",
       "      <th>NVDA</th>\n",
       "      <th>date</th>\n",
       "    </tr>\n",
       "  </thead>\n",
       "  <tbody>\n",
       "    <tr>\n",
       "      <th>0</th>\n",
       "      <td>65.617021</td>\n",
       "      <td>-43.942346</td>\n",
       "      <td>2024-01-28</td>\n",
       "    </tr>\n",
       "    <tr>\n",
       "      <th>1</th>\n",
       "      <td>47.540984</td>\n",
       "      <td>-39.736842</td>\n",
       "      <td>2023-10-29</td>\n",
       "    </tr>\n",
       "    <tr>\n",
       "      <th>2</th>\n",
       "      <td>-16.141566</td>\n",
       "      <td>45.786441</td>\n",
       "      <td>2023-07-30</td>\n",
       "    </tr>\n",
       "    <tr>\n",
       "      <th>3</th>\n",
       "      <td>-11.536638</td>\n",
       "      <td>12.706714</td>\n",
       "      <td>2023-04-30</td>\n",
       "    </tr>\n",
       "    <tr>\n",
       "      <th>4</th>\n",
       "      <td>-13.858911</td>\n",
       "      <td>-8.570822</td>\n",
       "      <td>2023-01-29</td>\n",
       "    </tr>\n",
       "    <tr>\n",
       "      <th>5</th>\n",
       "      <td>-7.697095</td>\n",
       "      <td>-10.534636</td>\n",
       "      <td>2022-10-30</td>\n",
       "    </tr>\n",
       "    <tr>\n",
       "      <th>6</th>\n",
       "      <td>-26.411290</td>\n",
       "      <td>-9.246897</td>\n",
       "      <td>2022-07-31</td>\n",
       "    </tr>\n",
       "    <tr>\n",
       "      <th>7</th>\n",
       "      <td>-226.423077</td>\n",
       "      <td>-14.800000</td>\n",
       "      <td>2022-05-01</td>\n",
       "    </tr>\n",
       "    <tr>\n",
       "      <th>8</th>\n",
       "      <td>-92.807692</td>\n",
       "      <td>-20.435829</td>\n",
       "      <td>2022-01-30</td>\n",
       "    </tr>\n",
       "    <tr>\n",
       "      <th>9</th>\n",
       "      <td>-31.253623</td>\n",
       "      <td>-60.194915</td>\n",
       "      <td>2021-10-31</td>\n",
       "    </tr>\n",
       "  </tbody>\n",
       "</table>\n",
       "</div>"
      ],
      "text/plain": [
       "          AMD       NVDA        date\n",
       "0   65.617021 -43.942346  2024-01-28\n",
       "1   47.540984 -39.736842  2023-10-29\n",
       "2  -16.141566  45.786441  2023-07-30\n",
       "3  -11.536638  12.706714  2023-04-30\n",
       "4  -13.858911  -8.570822  2023-01-29\n",
       "5   -7.697095 -10.534636  2022-10-30\n",
       "6  -26.411290  -9.246897  2022-07-31\n",
       "7 -226.423077 -14.800000  2022-05-01\n",
       "8  -92.807692 -20.435829  2022-01-30\n",
       "9  -31.253623 -60.194915  2021-10-31"
      ]
     },
     "execution_count": 103,
     "metadata": {},
     "output_type": "execute_result"
    }
   ],
   "source": [
    "combined_data"
   ]
  },
  {
   "cell_type": "code",
   "execution_count": 112,
   "metadata": {},
   "outputs": [
    {
     "data": {
      "application/vnd.plotly.v1+json": {
       "config": {
        "plotlyServerURL": "https://plot.ly"
       },
       "data": [
        {
         "hovertemplate": "variable=AMD<br>date=%{x}<br>value=%{y}<extra></extra>",
         "legendgroup": "AMD",
         "line": {
          "color": "#636efa",
          "dash": "solid"
         },
         "marker": {
          "symbol": "circle"
         },
         "mode": "lines",
         "name": "AMD",
         "orientation": "v",
         "showlegend": true,
         "type": "scatter",
         "x": [
          "2024-01-28",
          "2023-10-29",
          "2023-07-30",
          "2023-04-30",
          "2023-01-29",
          "2022-10-30",
          "2022-07-31",
          "2022-05-01",
          "2022-01-30",
          "2021-10-31"
         ],
         "xaxis": "x",
         "y": [
          65.61702127659575,
          47.540983606557376,
          -16.14156626506024,
          -11.536637931034482,
          -13.858910891089108,
          -7.6970954356846475,
          -26.411290322580644,
          -226.42307692307693,
          -92.8076923076923,
          -31.253623188405797
         ],
         "yaxis": "y"
        },
        {
         "hovertemplate": "variable=NVDA<br>date=%{x}<br>value=%{y}<extra></extra>",
         "legendgroup": "NVDA",
         "line": {
          "color": "#EF553B",
          "dash": "solid"
         },
         "marker": {
          "symbol": "circle"
         },
         "mode": "lines",
         "name": "NVDA",
         "orientation": "v",
         "showlegend": true,
         "type": "scatter",
         "x": [
          "2024-01-28",
          "2023-10-29",
          "2023-07-30",
          "2023-04-30",
          "2023-01-29",
          "2022-10-30",
          "2022-07-31",
          "2022-05-01",
          "2022-01-30",
          "2021-10-31"
         ],
         "xaxis": "x",
         "y": [
          -43.94234592445328,
          -39.73684210526316,
          45.7864406779661,
          12.706713780918728,
          -8.570821529745043,
          -10.534635879218472,
          -9.246896551724138,
          -14.8,
          -20.43582887700535,
          -60.19491525423729
         ],
         "yaxis": "y"
        }
       ],
       "layout": {
        "legend": {
         "title": {
          "text": "variable"
         },
         "tracegroupgap": 0
        },
        "margin": {
         "t": 60
        },
        "template": {
         "data": {
          "bar": [
           {
            "error_x": {
             "color": "#2a3f5f"
            },
            "error_y": {
             "color": "#2a3f5f"
            },
            "marker": {
             "line": {
              "color": "#E5ECF6",
              "width": 0.5
             },
             "pattern": {
              "fillmode": "overlay",
              "size": 10,
              "solidity": 0.2
             }
            },
            "type": "bar"
           }
          ],
          "barpolar": [
           {
            "marker": {
             "line": {
              "color": "#E5ECF6",
              "width": 0.5
             },
             "pattern": {
              "fillmode": "overlay",
              "size": 10,
              "solidity": 0.2
             }
            },
            "type": "barpolar"
           }
          ],
          "carpet": [
           {
            "aaxis": {
             "endlinecolor": "#2a3f5f",
             "gridcolor": "white",
             "linecolor": "white",
             "minorgridcolor": "white",
             "startlinecolor": "#2a3f5f"
            },
            "baxis": {
             "endlinecolor": "#2a3f5f",
             "gridcolor": "white",
             "linecolor": "white",
             "minorgridcolor": "white",
             "startlinecolor": "#2a3f5f"
            },
            "type": "carpet"
           }
          ],
          "choropleth": [
           {
            "colorbar": {
             "outlinewidth": 0,
             "ticks": ""
            },
            "type": "choropleth"
           }
          ],
          "contour": [
           {
            "colorbar": {
             "outlinewidth": 0,
             "ticks": ""
            },
            "colorscale": [
             [
              0,
              "#0d0887"
             ],
             [
              0.1111111111111111,
              "#46039f"
             ],
             [
              0.2222222222222222,
              "#7201a8"
             ],
             [
              0.3333333333333333,
              "#9c179e"
             ],
             [
              0.4444444444444444,
              "#bd3786"
             ],
             [
              0.5555555555555556,
              "#d8576b"
             ],
             [
              0.6666666666666666,
              "#ed7953"
             ],
             [
              0.7777777777777778,
              "#fb9f3a"
             ],
             [
              0.8888888888888888,
              "#fdca26"
             ],
             [
              1,
              "#f0f921"
             ]
            ],
            "type": "contour"
           }
          ],
          "contourcarpet": [
           {
            "colorbar": {
             "outlinewidth": 0,
             "ticks": ""
            },
            "type": "contourcarpet"
           }
          ],
          "heatmap": [
           {
            "colorbar": {
             "outlinewidth": 0,
             "ticks": ""
            },
            "colorscale": [
             [
              0,
              "#0d0887"
             ],
             [
              0.1111111111111111,
              "#46039f"
             ],
             [
              0.2222222222222222,
              "#7201a8"
             ],
             [
              0.3333333333333333,
              "#9c179e"
             ],
             [
              0.4444444444444444,
              "#bd3786"
             ],
             [
              0.5555555555555556,
              "#d8576b"
             ],
             [
              0.6666666666666666,
              "#ed7953"
             ],
             [
              0.7777777777777778,
              "#fb9f3a"
             ],
             [
              0.8888888888888888,
              "#fdca26"
             ],
             [
              1,
              "#f0f921"
             ]
            ],
            "type": "heatmap"
           }
          ],
          "heatmapgl": [
           {
            "colorbar": {
             "outlinewidth": 0,
             "ticks": ""
            },
            "colorscale": [
             [
              0,
              "#0d0887"
             ],
             [
              0.1111111111111111,
              "#46039f"
             ],
             [
              0.2222222222222222,
              "#7201a8"
             ],
             [
              0.3333333333333333,
              "#9c179e"
             ],
             [
              0.4444444444444444,
              "#bd3786"
             ],
             [
              0.5555555555555556,
              "#d8576b"
             ],
             [
              0.6666666666666666,
              "#ed7953"
             ],
             [
              0.7777777777777778,
              "#fb9f3a"
             ],
             [
              0.8888888888888888,
              "#fdca26"
             ],
             [
              1,
              "#f0f921"
             ]
            ],
            "type": "heatmapgl"
           }
          ],
          "histogram": [
           {
            "marker": {
             "pattern": {
              "fillmode": "overlay",
              "size": 10,
              "solidity": 0.2
             }
            },
            "type": "histogram"
           }
          ],
          "histogram2d": [
           {
            "colorbar": {
             "outlinewidth": 0,
             "ticks": ""
            },
            "colorscale": [
             [
              0,
              "#0d0887"
             ],
             [
              0.1111111111111111,
              "#46039f"
             ],
             [
              0.2222222222222222,
              "#7201a8"
             ],
             [
              0.3333333333333333,
              "#9c179e"
             ],
             [
              0.4444444444444444,
              "#bd3786"
             ],
             [
              0.5555555555555556,
              "#d8576b"
             ],
             [
              0.6666666666666666,
              "#ed7953"
             ],
             [
              0.7777777777777778,
              "#fb9f3a"
             ],
             [
              0.8888888888888888,
              "#fdca26"
             ],
             [
              1,
              "#f0f921"
             ]
            ],
            "type": "histogram2d"
           }
          ],
          "histogram2dcontour": [
           {
            "colorbar": {
             "outlinewidth": 0,
             "ticks": ""
            },
            "colorscale": [
             [
              0,
              "#0d0887"
             ],
             [
              0.1111111111111111,
              "#46039f"
             ],
             [
              0.2222222222222222,
              "#7201a8"
             ],
             [
              0.3333333333333333,
              "#9c179e"
             ],
             [
              0.4444444444444444,
              "#bd3786"
             ],
             [
              0.5555555555555556,
              "#d8576b"
             ],
             [
              0.6666666666666666,
              "#ed7953"
             ],
             [
              0.7777777777777778,
              "#fb9f3a"
             ],
             [
              0.8888888888888888,
              "#fdca26"
             ],
             [
              1,
              "#f0f921"
             ]
            ],
            "type": "histogram2dcontour"
           }
          ],
          "mesh3d": [
           {
            "colorbar": {
             "outlinewidth": 0,
             "ticks": ""
            },
            "type": "mesh3d"
           }
          ],
          "parcoords": [
           {
            "line": {
             "colorbar": {
              "outlinewidth": 0,
              "ticks": ""
             }
            },
            "type": "parcoords"
           }
          ],
          "pie": [
           {
            "automargin": true,
            "type": "pie"
           }
          ],
          "scatter": [
           {
            "fillpattern": {
             "fillmode": "overlay",
             "size": 10,
             "solidity": 0.2
            },
            "type": "scatter"
           }
          ],
          "scatter3d": [
           {
            "line": {
             "colorbar": {
              "outlinewidth": 0,
              "ticks": ""
             }
            },
            "marker": {
             "colorbar": {
              "outlinewidth": 0,
              "ticks": ""
             }
            },
            "type": "scatter3d"
           }
          ],
          "scattercarpet": [
           {
            "marker": {
             "colorbar": {
              "outlinewidth": 0,
              "ticks": ""
             }
            },
            "type": "scattercarpet"
           }
          ],
          "scattergeo": [
           {
            "marker": {
             "colorbar": {
              "outlinewidth": 0,
              "ticks": ""
             }
            },
            "type": "scattergeo"
           }
          ],
          "scattergl": [
           {
            "marker": {
             "colorbar": {
              "outlinewidth": 0,
              "ticks": ""
             }
            },
            "type": "scattergl"
           }
          ],
          "scattermapbox": [
           {
            "marker": {
             "colorbar": {
              "outlinewidth": 0,
              "ticks": ""
             }
            },
            "type": "scattermapbox"
           }
          ],
          "scatterpolar": [
           {
            "marker": {
             "colorbar": {
              "outlinewidth": 0,
              "ticks": ""
             }
            },
            "type": "scatterpolar"
           }
          ],
          "scatterpolargl": [
           {
            "marker": {
             "colorbar": {
              "outlinewidth": 0,
              "ticks": ""
             }
            },
            "type": "scatterpolargl"
           }
          ],
          "scatterternary": [
           {
            "marker": {
             "colorbar": {
              "outlinewidth": 0,
              "ticks": ""
             }
            },
            "type": "scatterternary"
           }
          ],
          "surface": [
           {
            "colorbar": {
             "outlinewidth": 0,
             "ticks": ""
            },
            "colorscale": [
             [
              0,
              "#0d0887"
             ],
             [
              0.1111111111111111,
              "#46039f"
             ],
             [
              0.2222222222222222,
              "#7201a8"
             ],
             [
              0.3333333333333333,
              "#9c179e"
             ],
             [
              0.4444444444444444,
              "#bd3786"
             ],
             [
              0.5555555555555556,
              "#d8576b"
             ],
             [
              0.6666666666666666,
              "#ed7953"
             ],
             [
              0.7777777777777778,
              "#fb9f3a"
             ],
             [
              0.8888888888888888,
              "#fdca26"
             ],
             [
              1,
              "#f0f921"
             ]
            ],
            "type": "surface"
           }
          ],
          "table": [
           {
            "cells": {
             "fill": {
              "color": "#EBF0F8"
             },
             "line": {
              "color": "white"
             }
            },
            "header": {
             "fill": {
              "color": "#C8D4E3"
             },
             "line": {
              "color": "white"
             }
            },
            "type": "table"
           }
          ]
         },
         "layout": {
          "annotationdefaults": {
           "arrowcolor": "#2a3f5f",
           "arrowhead": 0,
           "arrowwidth": 1
          },
          "autotypenumbers": "strict",
          "coloraxis": {
           "colorbar": {
            "outlinewidth": 0,
            "ticks": ""
           }
          },
          "colorscale": {
           "diverging": [
            [
             0,
             "#8e0152"
            ],
            [
             0.1,
             "#c51b7d"
            ],
            [
             0.2,
             "#de77ae"
            ],
            [
             0.3,
             "#f1b6da"
            ],
            [
             0.4,
             "#fde0ef"
            ],
            [
             0.5,
             "#f7f7f7"
            ],
            [
             0.6,
             "#e6f5d0"
            ],
            [
             0.7,
             "#b8e186"
            ],
            [
             0.8,
             "#7fbc41"
            ],
            [
             0.9,
             "#4d9221"
            ],
            [
             1,
             "#276419"
            ]
           ],
           "sequential": [
            [
             0,
             "#0d0887"
            ],
            [
             0.1111111111111111,
             "#46039f"
            ],
            [
             0.2222222222222222,
             "#7201a8"
            ],
            [
             0.3333333333333333,
             "#9c179e"
            ],
            [
             0.4444444444444444,
             "#bd3786"
            ],
            [
             0.5555555555555556,
             "#d8576b"
            ],
            [
             0.6666666666666666,
             "#ed7953"
            ],
            [
             0.7777777777777778,
             "#fb9f3a"
            ],
            [
             0.8888888888888888,
             "#fdca26"
            ],
            [
             1,
             "#f0f921"
            ]
           ],
           "sequentialminus": [
            [
             0,
             "#0d0887"
            ],
            [
             0.1111111111111111,
             "#46039f"
            ],
            [
             0.2222222222222222,
             "#7201a8"
            ],
            [
             0.3333333333333333,
             "#9c179e"
            ],
            [
             0.4444444444444444,
             "#bd3786"
            ],
            [
             0.5555555555555556,
             "#d8576b"
            ],
            [
             0.6666666666666666,
             "#ed7953"
            ],
            [
             0.7777777777777778,
             "#fb9f3a"
            ],
            [
             0.8888888888888888,
             "#fdca26"
            ],
            [
             1,
             "#f0f921"
            ]
           ]
          },
          "colorway": [
           "#636efa",
           "#EF553B",
           "#00cc96",
           "#ab63fa",
           "#FFA15A",
           "#19d3f3",
           "#FF6692",
           "#B6E880",
           "#FF97FF",
           "#FECB52"
          ],
          "font": {
           "color": "#2a3f5f"
          },
          "geo": {
           "bgcolor": "white",
           "lakecolor": "white",
           "landcolor": "#E5ECF6",
           "showlakes": true,
           "showland": true,
           "subunitcolor": "white"
          },
          "hoverlabel": {
           "align": "left"
          },
          "hovermode": "closest",
          "mapbox": {
           "style": "light"
          },
          "paper_bgcolor": "white",
          "plot_bgcolor": "#E5ECF6",
          "polar": {
           "angularaxis": {
            "gridcolor": "white",
            "linecolor": "white",
            "ticks": ""
           },
           "bgcolor": "#E5ECF6",
           "radialaxis": {
            "gridcolor": "white",
            "linecolor": "white",
            "ticks": ""
           }
          },
          "scene": {
           "xaxis": {
            "backgroundcolor": "#E5ECF6",
            "gridcolor": "white",
            "gridwidth": 2,
            "linecolor": "white",
            "showbackground": true,
            "ticks": "",
            "zerolinecolor": "white"
           },
           "yaxis": {
            "backgroundcolor": "#E5ECF6",
            "gridcolor": "white",
            "gridwidth": 2,
            "linecolor": "white",
            "showbackground": true,
            "ticks": "",
            "zerolinecolor": "white"
           },
           "zaxis": {
            "backgroundcolor": "#E5ECF6",
            "gridcolor": "white",
            "gridwidth": 2,
            "linecolor": "white",
            "showbackground": true,
            "ticks": "",
            "zerolinecolor": "white"
           }
          },
          "shapedefaults": {
           "line": {
            "color": "#2a3f5f"
           }
          },
          "ternary": {
           "aaxis": {
            "gridcolor": "white",
            "linecolor": "white",
            "ticks": ""
           },
           "baxis": {
            "gridcolor": "white",
            "linecolor": "white",
            "ticks": ""
           },
           "bgcolor": "#E5ECF6",
           "caxis": {
            "gridcolor": "white",
            "linecolor": "white",
            "ticks": ""
           }
          },
          "title": {
           "x": 0.05
          },
          "xaxis": {
           "automargin": true,
           "gridcolor": "white",
           "linecolor": "white",
           "ticks": "",
           "title": {
            "standoff": 15
           },
           "zerolinecolor": "white",
           "zerolinewidth": 2
          },
          "yaxis": {
           "automargin": true,
           "gridcolor": "white",
           "linecolor": "white",
           "ticks": "",
           "title": {
            "standoff": 15
           },
           "zerolinecolor": "white",
           "zerolinewidth": 2
          }
         }
        },
        "xaxis": {
         "anchor": "y",
         "domain": [
          0,
          1
         ],
         "title": {
          "text": "date"
         }
        },
        "yaxis": {
         "anchor": "x",
         "domain": [
          0,
          1
         ],
         "title": {
          "text": "value"
         }
        }
       }
      }
     },
     "metadata": {},
     "output_type": "display_data"
    }
   ],
   "source": [
    "revByinv_fig = px.line(combined_data, x=\"date\", y=combined_data.columns,labels={'x': 'Date', 'y': 'Revenue/Inventory'})\n",
    "fig.show()"
   ]
  },
  {
   "cell_type": "code",
   "execution_count": 116,
   "metadata": {},
   "outputs": [
    {
     "data": {
      "text/plain": [
       "[{'symbol': 'TKO',\n",
       "  'filingDate': '2024-04-11 19:00:07',\n",
       "  'transactionDate': '2024-04-09',\n",
       "  'reportingCik': '0001531362',\n",
       "  'transactionType': 'P-Purchase',\n",
       "  'securitiesOwned': 1642970,\n",
       "  'companyCik': '0001973266',\n",
       "  'reportingName': 'Whitesell Patrick',\n",
       "  'typeOfOwner': '10 percent owner',\n",
       "  'acquistionOrDisposition': 'A',\n",
       "  'formType': '4',\n",
       "  'securitiesTransacted': 1642970,\n",
       "  'price': 89.01,\n",
       "  'securityName': 'Class A Common Stock',\n",
       "  'link': 'https://www.sec.gov/Archives/edgar/data/1766363/000095017024043816/0000950170-24-043816-index.htm'},\n",
       " {'symbol': 'TKO',\n",
       "  'filingDate': '2023-11-14 21:39:47',\n",
       "  'transactionDate': '2023-11-14',\n",
       "  'reportingCik': '0001233831',\n",
       "  'transactionType': 'S-Sale',\n",
       "  'securitiesOwned': 20435207,\n",
       "  'companyCik': '0001973266',\n",
       "  'reportingName': 'MCMAHON VINCENT K',\n",
       "  'typeOfOwner': 'director, 10 percent owner: ',\n",
       "  'acquistionOrDisposition': 'D',\n",
       "  'formType': '4',\n",
       "  'securitiesTransacted': 8400000,\n",
       "  'price': 76.41,\n",
       "  'securityName': 'Class A Common Stock',\n",
       "  'link': 'https://www.sec.gov/Archives/edgar/data/1233831/000095017023063967/0000950170-23-063967-index.htm'},\n",
       " {'symbol': 'TKO',\n",
       "  'filingDate': '2023-11-14 19:00:26',\n",
       "  'transactionDate': '2023-11-14',\n",
       "  'reportingCik': '0001405614',\n",
       "  'transactionType': 'P-Purchase',\n",
       "  'securitiesOwned': 4761,\n",
       "  'companyCik': '0001973266',\n",
       "  'reportingName': 'Koonin Steven R',\n",
       "  'typeOfOwner': 'director',\n",
       "  'acquistionOrDisposition': 'A',\n",
       "  'formType': '4',\n",
       "  'securitiesTransacted': 1253,\n",
       "  'price': 79.8,\n",
       "  'securityName': 'Class A Common Stock',\n",
       "  'link': 'https://www.sec.gov/Archives/edgar/data/1405614/000095017023063916/0000950170-23-063916-index.htm'},\n",
       " {'symbol': 'TKO',\n",
       "  'filingDate': '2023-11-14 19:00:17',\n",
       "  'transactionDate': '2023-11-14',\n",
       "  'reportingCik': '0001126013',\n",
       "  'transactionType': 'P-Purchase',\n",
       "  'securitiesOwned': 3132,\n",
       "  'companyCik': '0001973266',\n",
       "  'reportingName': 'WHEELER CARRIE',\n",
       "  'typeOfOwner': 'director',\n",
       "  'acquistionOrDisposition': 'A',\n",
       "  'formType': '4',\n",
       "  'securitiesTransacted': 3132,\n",
       "  'price': 79.8,\n",
       "  'securityName': 'Class A Common Stock',\n",
       "  'link': 'https://www.sec.gov/Archives/edgar/data/1126013/000095017023063913/0000950170-23-063913-index.htm'},\n",
       " {'symbol': 'TKO',\n",
       "  'filingDate': '2023-11-14 19:00:11',\n",
       "  'transactionDate': '2023-11-14',\n",
       "  'reportingCik': '0001232428',\n",
       "  'transactionType': 'P-Purchase',\n",
       "  'securitiesOwned': 11265,\n",
       "  'companyCik': '0001973266',\n",
       "  'reportingName': 'KRAFT JONATHAN',\n",
       "  'typeOfOwner': 'director',\n",
       "  'acquistionOrDisposition': 'A',\n",
       "  'formType': '4',\n",
       "  'securitiesTransacted': 6265,\n",
       "  'price': 79.8,\n",
       "  'securityName': 'Class A Common Stock',\n",
       "  'link': 'https://www.sec.gov/Archives/edgar/data/1232428/000095017023063912/0000950170-23-063912-index.htm'},\n",
       " {'symbol': 'TKO',\n",
       "  'filingDate': '2023-11-08 19:27:00',\n",
       "  'transactionDate': '2023-11-06',\n",
       "  'reportingCik': '0001350603',\n",
       "  'transactionType': 'A-Award',\n",
       "  'securitiesOwned': 37244,\n",
       "  'companyCik': '0001973266',\n",
       "  'reportingName': 'Schleimer Andrew M',\n",
       "  'typeOfOwner': 'officer: Chief Financial Officer',\n",
       "  'acquistionOrDisposition': 'A',\n",
       "  'formType': '4',\n",
       "  'securitiesTransacted': 37244,\n",
       "  'price': 0,\n",
       "  'securityName': 'Restricted Stock Units',\n",
       "  'link': 'https://www.sec.gov/Archives/edgar/data/1350603/000095017023061380/0000950170-23-061380-index.htm'},\n",
       " {'symbol': 'TKO',\n",
       "  'filingDate': '2023-09-15 19:00:10',\n",
       "  'transactionDate': '2023-09-14',\n",
       "  'reportingCik': '0001232428',\n",
       "  'transactionType': 'P-Purchase',\n",
       "  'securitiesOwned': 5000,\n",
       "  'companyCik': '0001973266',\n",
       "  'reportingName': 'KRAFT JONATHAN',\n",
       "  'typeOfOwner': 'director',\n",
       "  'acquistionOrDisposition': 'A',\n",
       "  'formType': '4',\n",
       "  'securitiesTransacted': 5000,\n",
       "  'price': 101.53,\n",
       "  'securityName': 'Class A Common Stock',\n",
       "  'link': 'https://www.sec.gov/Archives/edgar/data/1232428/000089924323019164/0000899243-23-019164-index.htm'},\n",
       " {'symbol': 'TKO',\n",
       "  'filingDate': '2023-09-12 20:21:47',\n",
       "  'transactionDate': '2023-09-12',\n",
       "  'reportingCik': '0001797895',\n",
       "  'transactionType': 'A-Award',\n",
       "  'securitiesOwned': 1767,\n",
       "  'companyCik': '0001973266',\n",
       "  'reportingName': 'Tellem Nancy',\n",
       "  'typeOfOwner': 'director',\n",
       "  'acquistionOrDisposition': 'A',\n",
       "  'formType': '4',\n",
       "  'securitiesTransacted': 1767,\n",
       "  'price': 0,\n",
       "  'securityName': 'Restricted Stock Unit',\n",
       "  'link': 'https://www.sec.gov/Archives/edgar/data/1797895/000089924323018809/0000899243-23-018809-index.htm'},\n",
       " {'symbol': 'TKO',\n",
       "  'filingDate': '2023-09-12 20:20:11',\n",
       "  'transactionDate': '2023-09-12',\n",
       "  'reportingCik': '0001232428',\n",
       "  'transactionType': 'A-Award',\n",
       "  'securitiesOwned': 1767,\n",
       "  'companyCik': '0001973266',\n",
       "  'reportingName': 'KRAFT JONATHAN',\n",
       "  'typeOfOwner': 'director',\n",
       "  'acquistionOrDisposition': 'A',\n",
       "  'formType': '4',\n",
       "  'securitiesTransacted': 1767,\n",
       "  'price': 0,\n",
       "  'securityName': 'Restricted Stock Unit',\n",
       "  'link': 'https://www.sec.gov/Archives/edgar/data/1232428/000089924323018805/0000899243-23-018805-index.htm'},\n",
       " {'symbol': 'TKO',\n",
       "  'filingDate': '2023-09-12 20:19:54',\n",
       "  'transactionDate': '2023-09-12',\n",
       "  'reportingCik': '0001653929',\n",
       "  'transactionType': 'A-Award',\n",
       "  'securitiesOwned': 1767,\n",
       "  'companyCik': '0001973266',\n",
       "  'reportingName': 'Medina Sonya E',\n",
       "  'typeOfOwner': 'director',\n",
       "  'acquistionOrDisposition': 'A',\n",
       "  'formType': '4',\n",
       "  'securitiesTransacted': 1767,\n",
       "  'price': 0,\n",
       "  'securityName': 'Restricted Stock Unit',\n",
       "  'link': 'https://www.sec.gov/Archives/edgar/data/1653929/000089924323018804/0000899243-23-018804-index.htm'},\n",
       " {'symbol': 'TKO',\n",
       "  'filingDate': '2023-09-12 20:19:41',\n",
       "  'transactionDate': '2023-09-12',\n",
       "  'reportingCik': '0001253889',\n",
       "  'transactionType': 'A-Award',\n",
       "  'securitiesOwned': 1767,\n",
       "  'companyCik': '0001973266',\n",
       "  'reportingName': 'BYNOE PETER C B',\n",
       "  'typeOfOwner': 'director',\n",
       "  'acquistionOrDisposition': 'A',\n",
       "  'formType': '4',\n",
       "  'securitiesTransacted': 1767,\n",
       "  'price': 0,\n",
       "  'securityName': 'Restricted Stock Unit',\n",
       "  'link': 'https://www.sec.gov/Archives/edgar/data/1253889/000089924323018802/0000899243-23-018802-index.htm'},\n",
       " {'symbol': 'TKO',\n",
       "  'filingDate': '2023-09-12 20:18:05',\n",
       "  'transactionDate': '2023-09-12',\n",
       "  'reportingCik': '0001126013',\n",
       "  'transactionType': 'A-Award',\n",
       "  'securitiesOwned': 1767,\n",
       "  'companyCik': '0001973266',\n",
       "  'reportingName': 'WHEELER CARRIE',\n",
       "  'typeOfOwner': 'director',\n",
       "  'acquistionOrDisposition': 'A',\n",
       "  'formType': '4',\n",
       "  'securitiesTransacted': 1767,\n",
       "  'price': 0,\n",
       "  'securityName': 'Restricted Stock Unit',\n",
       "  'link': 'https://www.sec.gov/Archives/edgar/data/1126013/000089924323018799/0000899243-23-018799-index.htm'},\n",
       " {'symbol': 'TKO',\n",
       "  'filingDate': '2023-09-12 20:17:56',\n",
       "  'transactionDate': '2023-09-12',\n",
       "  'reportingCik': '0001405614',\n",
       "  'transactionType': 'A-Award',\n",
       "  'securitiesOwned': 3508,\n",
       "  'companyCik': '0001973266',\n",
       "  'reportingName': 'Koonin Steven R',\n",
       "  'typeOfOwner': 'director',\n",
       "  'acquistionOrDisposition': 'A',\n",
       "  'formType': '4',\n",
       "  'securitiesTransacted': 3508,\n",
       "  'price': 0,\n",
       "  'securityName': 'Class A Common Stock',\n",
       "  'link': 'https://www.sec.gov/Archives/edgar/data/1405614/000089924323018798/0000899243-23-018798-index.htm'},\n",
       " {'symbol': 'TKO',\n",
       "  'filingDate': '2023-09-12 20:17:56',\n",
       "  'transactionDate': '2023-09-12',\n",
       "  'reportingCik': '0001405614',\n",
       "  'transactionType': 'A-Award',\n",
       "  'securitiesOwned': 1767,\n",
       "  'companyCik': '0001973266',\n",
       "  'reportingName': 'Koonin Steven R',\n",
       "  'typeOfOwner': 'director',\n",
       "  'acquistionOrDisposition': 'A',\n",
       "  'formType': '4',\n",
       "  'securitiesTransacted': 1767,\n",
       "  'price': 0,\n",
       "  'securityName': 'Restricted Stock Unit',\n",
       "  'link': 'https://www.sec.gov/Archives/edgar/data/1405614/000089924323018798/0000899243-23-018798-index.htm'},\n",
       " {'symbol': 'TKO',\n",
       "  'filingDate': '2023-09-12 20:00:50',\n",
       "  'transactionDate': '2023-09-12',\n",
       "  'reportingCik': '0001868088',\n",
       "  'transactionType': '',\n",
       "  'securitiesOwned': 76712059,\n",
       "  'companyCik': '0001973266',\n",
       "  'reportingName': 'Silver Lake West HoldCo, L.P.',\n",
       "  'typeOfOwner': '10 percent owner',\n",
       "  'acquistionOrDisposition': 'I',\n",
       "  'formType': '3',\n",
       "  'securitiesTransacted': 0,\n",
       "  'price': 0,\n",
       "  'securityName': 'Class B Common Stock',\n",
       "  'link': 'https://www.sec.gov/Archives/edgar/data/1651403/000089924323018794/0000899243-23-018794-index.htm'},\n",
       " {'symbol': 'TKO',\n",
       "  'filingDate': '2023-09-12 20:00:50',\n",
       "  'transactionDate': '2023-09-12',\n",
       "  'reportingCik': '0001868088',\n",
       "  'transactionType': '',\n",
       "  'securitiesOwned': 6542033,\n",
       "  'companyCik': '0001973266',\n",
       "  'reportingName': 'Silver Lake West HoldCo, L.P.',\n",
       "  'typeOfOwner': '10 percent owner',\n",
       "  'acquistionOrDisposition': 'I',\n",
       "  'formType': '3',\n",
       "  'securitiesTransacted': 0,\n",
       "  'price': 0,\n",
       "  'securityName': 'Class B Common Stock',\n",
       "  'link': 'https://www.sec.gov/Archives/edgar/data/1651403/000089924323018794/0000899243-23-018794-index.htm'},\n",
       " {'symbol': 'TKO',\n",
       "  'filingDate': '2023-09-12 20:00:50',\n",
       "  'transactionDate': '2023-09-12',\n",
       "  'reportingCik': '0001868088',\n",
       "  'transactionType': '',\n",
       "  'securitiesOwned': 6362799,\n",
       "  'companyCik': '0001973266',\n",
       "  'reportingName': 'Silver Lake West HoldCo, L.P.',\n",
       "  'typeOfOwner': '10 percent owner',\n",
       "  'acquistionOrDisposition': 'I',\n",
       "  'formType': '3',\n",
       "  'securitiesTransacted': 0,\n",
       "  'price': 0,\n",
       "  'securityName': 'Class B Common Stock',\n",
       "  'link': 'https://www.sec.gov/Archives/edgar/data/1651403/000089924323018794/0000899243-23-018794-index.htm'},\n",
       " {'symbol': 'TKO',\n",
       "  'filingDate': '2023-09-12 20:00:50',\n",
       "  'transactionDate': '2023-09-12',\n",
       "  'reportingCik': '0001868088',\n",
       "  'transactionType': '',\n",
       "  'securitiesOwned': 0,\n",
       "  'companyCik': '0001973266',\n",
       "  'reportingName': 'Silver Lake West HoldCo, L.P.',\n",
       "  'typeOfOwner': '10 percent owner',\n",
       "  'acquistionOrDisposition': 'I',\n",
       "  'formType': '3',\n",
       "  'securitiesTransacted': 6542033,\n",
       "  'price': 0,\n",
       "  'securityName': 'Common Units',\n",
       "  'link': 'https://www.sec.gov/Archives/edgar/data/1651403/000089924323018794/0000899243-23-018794-index.htm'},\n",
       " {'symbol': 'TKO',\n",
       "  'filingDate': '2023-09-12 19:45:40',\n",
       "  'transactionDate': '2023-09-12',\n",
       "  'reportingCik': '0001253889',\n",
       "  'transactionType': '',\n",
       "  'securitiesOwned': 0,\n",
       "  'companyCik': '0001973266',\n",
       "  'reportingName': 'BYNOE PETER C B',\n",
       "  'typeOfOwner': 'director: ',\n",
       "  'acquistionOrDisposition': '',\n",
       "  'formType': '3',\n",
       "  'securitiesTransacted': 0,\n",
       "  'price': 0,\n",
       "  'securityName': '',\n",
       "  'link': 'https://www.sec.gov/Archives/edgar/data/1253889/000089924323018788/0000899243-23-018788-index.htm'},\n",
       " {'symbol': 'TKO',\n",
       "  'filingDate': '2023-09-12 19:45:33',\n",
       "  'transactionDate': '2023-09-12',\n",
       "  'reportingCik': '0001797895',\n",
       "  'transactionType': '',\n",
       "  'securitiesOwned': 0,\n",
       "  'companyCik': '0001973266',\n",
       "  'reportingName': 'Tellem Nancy',\n",
       "  'typeOfOwner': 'director: ',\n",
       "  'acquistionOrDisposition': '',\n",
       "  'formType': '3',\n",
       "  'securitiesTransacted': 0,\n",
       "  'price': 0,\n",
       "  'securityName': '',\n",
       "  'link': 'https://www.sec.gov/Archives/edgar/data/1797895/000089924323018786/0000899243-23-018786-index.htm'},\n",
       " {'symbol': 'TKO',\n",
       "  'filingDate': '2023-09-12 19:45:30',\n",
       "  'transactionDate': '2023-09-12',\n",
       "  'reportingCik': '0001126013',\n",
       "  'transactionType': '',\n",
       "  'securitiesOwned': 0,\n",
       "  'companyCik': '0001973266',\n",
       "  'reportingName': 'WHEELER CARRIE',\n",
       "  'typeOfOwner': 'director: ',\n",
       "  'acquistionOrDisposition': '',\n",
       "  'formType': '3',\n",
       "  'securitiesTransacted': 0,\n",
       "  'price': 0,\n",
       "  'securityName': '',\n",
       "  'link': 'https://www.sec.gov/Archives/edgar/data/1126013/000089924323018785/0000899243-23-018785-index.htm'},\n",
       " {'symbol': 'TKO',\n",
       "  'filingDate': '2023-09-12 19:45:28',\n",
       "  'transactionDate': '2023-09-12',\n",
       "  'reportingCik': '0001233831',\n",
       "  'transactionType': '',\n",
       "  'securitiesOwned': 28835207,\n",
       "  'companyCik': '0001973266',\n",
       "  'reportingName': 'MCMAHON VINCENT K',\n",
       "  'typeOfOwner': 'director, 10 percent owner: ',\n",
       "  'acquistionOrDisposition': 'D',\n",
       "  'formType': '3',\n",
       "  'securitiesTransacted': 0,\n",
       "  'price': 0,\n",
       "  'securityName': 'Class A Common Stock',\n",
       "  'link': 'https://www.sec.gov/Archives/edgar/data/1233831/000089924323018792/0000899243-23-018792-index.htm'},\n",
       " {'symbol': 'TKO',\n",
       "  'filingDate': '2023-09-12 19:45:28',\n",
       "  'transactionDate': '2023-09-12',\n",
       "  'reportingCik': '0001233831',\n",
       "  'transactionType': '',\n",
       "  'securitiesOwned': 0,\n",
       "  'companyCik': '0001973266',\n",
       "  'reportingName': 'MCMAHON VINCENT K',\n",
       "  'typeOfOwner': 'director, 10 percent owner: ',\n",
       "  'acquistionOrDisposition': 'D',\n",
       "  'formType': '3',\n",
       "  'securitiesTransacted': 3484006,\n",
       "  'price': 0,\n",
       "  'securityName': 'Forward Sale Contract (obligation to sell)',\n",
       "  'link': 'https://www.sec.gov/Archives/edgar/data/1233831/000089924323018792/0000899243-23-018792-index.htm'},\n",
       " {'symbol': 'TKO',\n",
       "  'filingDate': '2023-09-12 19:45:26',\n",
       "  'transactionDate': '2023-09-12',\n",
       "  'reportingCik': '0001405614',\n",
       "  'transactionType': '',\n",
       "  'securitiesOwned': 3508,\n",
       "  'companyCik': '0001973266',\n",
       "  'reportingName': 'Koonin Steven R',\n",
       "  'typeOfOwner': 'director',\n",
       "  'acquistionOrDisposition': 'D',\n",
       "  'formType': '3',\n",
       "  'securitiesTransacted': 0,\n",
       "  'price': 0,\n",
       "  'securityName': 'Class A Common Stock',\n",
       "  'link': 'https://www.sec.gov/Archives/edgar/data/1405614/000089924323018791/0000899243-23-018791-index.htm'},\n",
       " {'symbol': 'TKO',\n",
       "  'filingDate': '2023-09-12 19:45:26',\n",
       "  'transactionDate': '2023-09-12',\n",
       "  'reportingCik': '0001350603',\n",
       "  'transactionType': '',\n",
       "  'securitiesOwned': 0,\n",
       "  'companyCik': '0001973266',\n",
       "  'reportingName': 'Schleimer Andrew M',\n",
       "  'typeOfOwner': 'officer',\n",
       "  'acquistionOrDisposition': '',\n",
       "  'formType': '3',\n",
       "  'securitiesTransacted': 0,\n",
       "  'price': 0,\n",
       "  'securityName': '',\n",
       "  'link': 'https://www.sec.gov/Archives/edgar/data/1350603/000089924323018784/0000899243-23-018784-index.htm'},\n",
       " {'symbol': 'TKO',\n",
       "  'filingDate': '2023-09-12 19:45:16',\n",
       "  'transactionDate': '2023-09-12',\n",
       "  'reportingCik': '0001653929',\n",
       "  'transactionType': '',\n",
       "  'securitiesOwned': 0,\n",
       "  'companyCik': '0001973266',\n",
       "  'reportingName': 'Medina Sonya E',\n",
       "  'typeOfOwner': 'director: ',\n",
       "  'acquistionOrDisposition': '',\n",
       "  'formType': '3',\n",
       "  'securitiesTransacted': 0,\n",
       "  'price': 0,\n",
       "  'securityName': '',\n",
       "  'link': 'https://www.sec.gov/Archives/edgar/data/1653929/000089924323018781/0000899243-23-018781-index.htm'},\n",
       " {'symbol': 'TKO',\n",
       "  'filingDate': '2023-09-12 19:45:13',\n",
       "  'transactionDate': '2023-09-12',\n",
       "  'reportingCik': '0001232428',\n",
       "  'transactionType': '',\n",
       "  'securitiesOwned': 0,\n",
       "  'companyCik': '0001973266',\n",
       "  'reportingName': 'KRAFT JONATHAN',\n",
       "  'typeOfOwner': 'director: ',\n",
       "  'acquistionOrDisposition': '',\n",
       "  'formType': '3',\n",
       "  'securitiesTransacted': 0,\n",
       "  'price': 0,\n",
       "  'securityName': '',\n",
       "  'link': 'https://www.sec.gov/Archives/edgar/data/1232428/000089924323018780/0000899243-23-018780-index.htm'},\n",
       " {'symbol': 'TKO',\n",
       "  'filingDate': '2009-01-05 16:11:52',\n",
       "  'transactionDate': '2008-12-31',\n",
       "  'reportingCik': '0001397572',\n",
       "  'transactionType': 'P-Purchase',\n",
       "  'securitiesOwned': 351000,\n",
       "  'companyCik': '0001094084',\n",
       "  'reportingName': 'Leimbach Richard J',\n",
       "  'typeOfOwner': 'officer: Chief Financial Officer',\n",
       "  'acquistionOrDisposition': 'A',\n",
       "  'formType': '4',\n",
       "  'securitiesTransacted': 350000,\n",
       "  'price': 0.1143,\n",
       "  'securityName': 'Common Stock par value $0.001',\n",
       "  'link': 'https://www.sec.gov/Archives/edgar/data/1397572/000101968709000039/0001019687-09-000039-index.htm'},\n",
       " {'symbol': 'TKO',\n",
       "  'filingDate': '2009-01-05 16:09:37',\n",
       "  'transactionDate': '2008-12-31',\n",
       "  'reportingCik': '0001410611',\n",
       "  'transactionType': 'S-Sale',\n",
       "  'securitiesOwned': 701803,\n",
       "  'companyCik': '0001094084',\n",
       "  'reportingName': 'Tienor Jason',\n",
       "  'typeOfOwner': 'officer: President and CEO',\n",
       "  'acquistionOrDisposition': 'D',\n",
       "  'formType': '4',\n",
       "  'securitiesTransacted': 175000,\n",
       "  'price': 0.1143,\n",
       "  'securityName': 'Common Stock par value $0.001',\n",
       "  'link': 'https://www.sec.gov/Archives/edgar/data/1410611/000101968709000035/0001019687-09-000035-index.htm'},\n",
       " {'symbol': 'TKO',\n",
       "  'filingDate': '2008-01-08 19:22:11',\n",
       "  'transactionDate': '2007-09-13',\n",
       "  'reportingCik': '0001411275',\n",
       "  'transactionType': 'P-Purchase',\n",
       "  'securitiesOwned': 3000,\n",
       "  'companyCik': '0001094084',\n",
       "  'reportingName': 'Cleal Dorothy',\n",
       "  'typeOfOwner': 'officer: Chief Operating Officer',\n",
       "  'acquistionOrDisposition': 'A',\n",
       "  'formType': '4/A',\n",
       "  'securitiesTransacted': 1000,\n",
       "  'price': 1.7,\n",
       "  'securityName': 'Common Stock par value $0.001',\n",
       "  'link': 'https://www.sec.gov/Archives/edgar/data/1411275/000101968708000120/0001019687-08-000120-index.htm'},\n",
       " {'symbol': 'TKO',\n",
       "  'filingDate': '2008-01-08 19:20:38',\n",
       "  'transactionDate': '2007-09-04',\n",
       "  'reportingCik': '0001411275',\n",
       "  'transactionType': 'P-Purchase',\n",
       "  'securitiesOwned': 2000,\n",
       "  'companyCik': '0001094084',\n",
       "  'reportingName': 'Cleal Dorothy',\n",
       "  'typeOfOwner': 'officer: Chief Operating Officer',\n",
       "  'acquistionOrDisposition': 'A',\n",
       "  'formType': '4/A',\n",
       "  'securitiesTransacted': 2000,\n",
       "  'price': 1.55,\n",
       "  'securityName': 'Common Stock par value $0.001',\n",
       "  'link': 'https://www.sec.gov/Archives/edgar/data/1411275/000101968708000119/0001019687-08-000119-index.htm'},\n",
       " {'symbol': 'TKO',\n",
       "  'filingDate': '2008-01-02 17:06:22',\n",
       "  'transactionDate': '2007-12-31',\n",
       "  'reportingCik': '0001273659',\n",
       "  'transactionType': 'G-Gift',\n",
       "  'securitiesOwned': 2556199,\n",
       "  'companyCik': '0001094084',\n",
       "  'reportingName': 'PICKETT RONALD W',\n",
       "  'typeOfOwner': 'director',\n",
       "  'acquistionOrDisposition': 'D',\n",
       "  'formType': '4',\n",
       "  'securitiesTransacted': 18500,\n",
       "  'price': 0.83,\n",
       "  'securityName': 'Common Stock par value $0.001',\n",
       "  'link': 'https://www.sec.gov/Archives/edgar/data/1273659/000101968708000025/0001019687-08-000025-index.htm'},\n",
       " {'symbol': 'TKO',\n",
       "  'filingDate': '2008-01-02 17:06:22',\n",
       "  'transactionDate': '2007-12-31',\n",
       "  'reportingCik': '0001273659',\n",
       "  'transactionType': 'G-Gift',\n",
       "  'securitiesOwned': 2537699,\n",
       "  'companyCik': '0001094084',\n",
       "  'reportingName': 'PICKETT RONALD W',\n",
       "  'typeOfOwner': 'director',\n",
       "  'acquistionOrDisposition': 'D',\n",
       "  'formType': '4',\n",
       "  'securitiesTransacted': 18500,\n",
       "  'price': 0.83,\n",
       "  'securityName': 'Common Stock par value $0.001',\n",
       "  'link': 'https://www.sec.gov/Archives/edgar/data/1273659/000101968708000025/0001019687-08-000025-index.htm'},\n",
       " {'symbol': 'TKO',\n",
       "  'filingDate': '2008-01-02 17:04:48',\n",
       "  'transactionDate': '2007-12-31',\n",
       "  'reportingCik': '0001304354',\n",
       "  'transactionType': 'G-Gift',\n",
       "  'securitiesOwned': 557790,\n",
       "  'companyCik': '0001094084',\n",
       "  'reportingName': 'Hall Thomas M',\n",
       "  'typeOfOwner': 'director',\n",
       "  'acquistionOrDisposition': 'D',\n",
       "  'formType': '4',\n",
       "  'securitiesTransacted': 10000,\n",
       "  'price': 0.805,\n",
       "  'securityName': 'Common Stock par value $0.001',\n",
       "  'link': 'https://www.sec.gov/Archives/edgar/data/1304354/000101968708000023/0001019687-08-000023-index.htm'},\n",
       " {'symbol': 'TKO',\n",
       "  'filingDate': '2007-09-13 18:29:41',\n",
       "  'transactionDate': '2007-09-13',\n",
       "  'reportingCik': '0001411275',\n",
       "  'transactionType': 'P-Purchase',\n",
       "  'securitiesOwned': 1886,\n",
       "  'companyCik': '0001094084',\n",
       "  'reportingName': 'Cleal Dorothy',\n",
       "  'typeOfOwner': 'officer: Executive Vice President',\n",
       "  'acquistionOrDisposition': 'A',\n",
       "  'formType': '4',\n",
       "  'securitiesTransacted': 588,\n",
       "  'price': 1.7,\n",
       "  'securityName': 'Common Stock par value $0.001',\n",
       "  'link': 'https://www.sec.gov/Archives/edgar/data/1411275/000101968707003053/0001019687-07-003053-index.htm'},\n",
       " {'symbol': 'TKO',\n",
       "  'filingDate': '2007-09-05 16:49:57',\n",
       "  'transactionDate': '2007-09-04',\n",
       "  'reportingCik': '0001411275',\n",
       "  'transactionType': 'P-Purchase',\n",
       "  'securitiesOwned': 1298,\n",
       "  'companyCik': '0001094084',\n",
       "  'reportingName': 'Cleal Dorothy',\n",
       "  'typeOfOwner': 'officer: Executive Vice President',\n",
       "  'acquistionOrDisposition': 'A',\n",
       "  'formType': '4',\n",
       "  'securitiesTransacted': 1298,\n",
       "  'price': 1.54,\n",
       "  'securityName': 'Common Stock par value $0.001',\n",
       "  'link': 'https://www.sec.gov/Archives/edgar/data/1411275/000101968707002953/0001019687-07-002953-index.htm'},\n",
       " {'symbol': 'TKO',\n",
       "  'filingDate': '2007-08-31 10:02:09',\n",
       "  'transactionDate': '2007-08-20',\n",
       "  'reportingCik': '0001410611',\n",
       "  'transactionType': '',\n",
       "  'securitiesOwned': 876803,\n",
       "  'companyCik': '0001094084',\n",
       "  'reportingName': 'Tienor Jason',\n",
       "  'typeOfOwner': 'officer: Chief Operating Officer',\n",
       "  'acquistionOrDisposition': 'D',\n",
       "  'formType': '3',\n",
       "  'securitiesTransacted': 0,\n",
       "  'price': 0,\n",
       "  'securityName': 'Common Stock par value $0.001',\n",
       "  'link': 'https://www.sec.gov/Archives/edgar/data/1410611/000101968707002921/0001019687-07-002921-index.htm'},\n",
       " {'symbol': 'TKO',\n",
       "  'filingDate': '2007-08-31 10:02:09',\n",
       "  'transactionDate': '2007-08-20',\n",
       "  'reportingCik': '0001410611',\n",
       "  'transactionType': '',\n",
       "  'securitiesOwned': 0,\n",
       "  'companyCik': '0001094084',\n",
       "  'reportingName': 'Tienor Jason',\n",
       "  'typeOfOwner': 'officer: Chief Operating Officer',\n",
       "  'acquistionOrDisposition': 'D',\n",
       "  'formType': '3',\n",
       "  'securitiesTransacted': 100000,\n",
       "  'price': 1.8,\n",
       "  'securityName': 'Option to purchase',\n",
       "  'link': 'https://www.sec.gov/Archives/edgar/data/1410611/000101968707002921/0001019687-07-002921-index.htm'},\n",
       " {'symbol': 'TKO',\n",
       "  'filingDate': '2007-08-31 10:00:59',\n",
       "  'transactionDate': '2007-08-20',\n",
       "  'reportingCik': '0001411275',\n",
       "  'transactionType': '',\n",
       "  'securitiesOwned': 0,\n",
       "  'companyCik': '0001094084',\n",
       "  'reportingName': 'Cleal Dorothy',\n",
       "  'typeOfOwner': 'officer: Executive Vice President',\n",
       "  'acquistionOrDisposition': 'D',\n",
       "  'formType': '3',\n",
       "  'securitiesTransacted': 0,\n",
       "  'price': 0,\n",
       "  'securityName': 'Common Stock par value $0.001',\n",
       "  'link': 'https://www.sec.gov/Archives/edgar/data/1411275/000101968707002920/0001019687-07-002920-index.htm'},\n",
       " {'symbol': 'TKO',\n",
       "  'filingDate': '2007-08-31 10:00:59',\n",
       "  'transactionDate': '2007-08-20',\n",
       "  'reportingCik': '0001411275',\n",
       "  'transactionType': '',\n",
       "  'securitiesOwned': 0,\n",
       "  'companyCik': '0001094084',\n",
       "  'reportingName': 'Cleal Dorothy',\n",
       "  'typeOfOwner': 'officer: Executive Vice President',\n",
       "  'acquistionOrDisposition': 'D',\n",
       "  'formType': '3',\n",
       "  'securitiesTransacted': 50000,\n",
       "  'price': 1.8,\n",
       "  'securityName': 'Option to purchase',\n",
       "  'link': 'https://www.sec.gov/Archives/edgar/data/1411275/000101968707002920/0001019687-07-002920-index.htm'},\n",
       " {'symbol': 'TKO',\n",
       "  'filingDate': '2007-04-30 11:38:39',\n",
       "  'transactionDate': '2006-12-18',\n",
       "  'reportingCik': '0000935363',\n",
       "  'transactionType': 'J-Other',\n",
       "  'securitiesOwned': 2000000,\n",
       "  'companyCik': '0001094084',\n",
       "  'reportingName': 'MUSSER WARREN V',\n",
       "  'typeOfOwner': 'director',\n",
       "  'acquistionOrDisposition': 'A',\n",
       "  'formType': '5',\n",
       "  'securitiesTransacted': 2000000,\n",
       "  'price': 1,\n",
       "  'securityName': 'Option to purchase',\n",
       "  'link': 'https://www.sec.gov/Archives/edgar/data/935363/000101968707001232/0001019687-07-001232-index.htm'},\n",
       " {'symbol': 'TKO',\n",
       "  'filingDate': '2007-04-30 11:38:39',\n",
       "  'transactionDate': '2006-12-31',\n",
       "  'reportingCik': '0000935363',\n",
       "  'transactionType': '',\n",
       "  'securitiesOwned': 0,\n",
       "  'companyCik': '0001094084',\n",
       "  'reportingName': 'MUSSER WARREN V',\n",
       "  'typeOfOwner': 'director',\n",
       "  'acquistionOrDisposition': 'D',\n",
       "  'formType': '5',\n",
       "  'securitiesTransacted': 0,\n",
       "  'price': 0,\n",
       "  'securityName': 'Common Stock par value $0.001',\n",
       "  'link': 'https://www.sec.gov/Archives/edgar/data/935363/000101968707001232/0001019687-07-001232-index.htm'},\n",
       " {'symbol': 'TKO',\n",
       "  'filingDate': '2007-04-26 15:31:52',\n",
       "  'transactionDate': '2007-04-23',\n",
       "  'reportingCik': '0001198413',\n",
       "  'transactionType': '',\n",
       "  'securitiesOwned': 0,\n",
       "  'companyCik': '0001094084',\n",
       "  'reportingName': 'PAONI ANTHONY J',\n",
       "  'typeOfOwner': 'director',\n",
       "  'acquistionOrDisposition': 'D',\n",
       "  'formType': '3',\n",
       "  'securitiesTransacted': 0,\n",
       "  'price': 0,\n",
       "  'securityName': 'Common Stock par value $0.001',\n",
       "  'link': 'https://www.sec.gov/Archives/edgar/data/1198413/000101968707001199/0001019687-07-001199-index.htm'},\n",
       " {'symbol': 'TKO',\n",
       "  'filingDate': '2007-04-26 15:30:46',\n",
       "  'transactionDate': '2007-03-16',\n",
       "  'reportingCik': '0001273282',\n",
       "  'transactionType': 'A-Award',\n",
       "  'securitiesOwned': 40000,\n",
       "  'companyCik': '0001094084',\n",
       "  'reportingName': 'BLUMENFELD SETH D',\n",
       "  'typeOfOwner': 'director',\n",
       "  'acquistionOrDisposition': 'A',\n",
       "  'formType': '5',\n",
       "  'securitiesTransacted': 40000,\n",
       "  'price': 2.78,\n",
       "  'securityName': 'Option to purchase',\n",
       "  'link': 'https://www.sec.gov/Archives/edgar/data/1273282/000101968707001197/0001019687-07-001197-index.htm'},\n",
       " {'symbol': 'TKO',\n",
       "  'filingDate': '2007-04-26 15:30:08',\n",
       "  'transactionDate': '2006-12-31',\n",
       "  'reportingCik': '0001273282',\n",
       "  'transactionType': '',\n",
       "  'securitiesOwned': 0,\n",
       "  'companyCik': '0001094084',\n",
       "  'reportingName': 'BLUMENFELD SETH D',\n",
       "  'typeOfOwner': 'director',\n",
       "  'acquistionOrDisposition': 'D',\n",
       "  'formType': '5',\n",
       "  'securitiesTransacted': 0,\n",
       "  'price': 0,\n",
       "  'securityName': 'Common Stock par value $0.001',\n",
       "  'link': 'https://www.sec.gov/Archives/edgar/data/1273282/000101968707001196/0001019687-07-001196-index.htm'},\n",
       " {'symbol': 'TKO',\n",
       "  'filingDate': '2007-04-25 17:09:10',\n",
       "  'transactionDate': '2005-01-01',\n",
       "  'reportingCik': '0001397572',\n",
       "  'transactionType': 'J-Other',\n",
       "  'securitiesOwned': 87500,\n",
       "  'companyCik': '0001094084',\n",
       "  'reportingName': 'Leimbach Richard J',\n",
       "  'typeOfOwner': 'officer: Vice President Finance',\n",
       "  'acquistionOrDisposition': 'A',\n",
       "  'formType': '5',\n",
       "  'securitiesTransacted': 50000,\n",
       "  'price': 5.08,\n",
       "  'securityName': 'Option to purchase',\n",
       "  'link': 'https://www.sec.gov/Archives/edgar/data/1397572/000101968707001186/0001019687-07-001186-index.htm'},\n",
       " {'symbol': 'TKO',\n",
       "  'filingDate': '2007-04-25 17:09:10',\n",
       "  'transactionDate': '2004-01-26',\n",
       "  'reportingCik': '0001397572',\n",
       "  'transactionType': 'J-Other',\n",
       "  'securitiesOwned': 37500,\n",
       "  'companyCik': '0001094084',\n",
       "  'reportingName': 'Leimbach Richard J',\n",
       "  'typeOfOwner': 'officer: Vice President Finance',\n",
       "  'acquistionOrDisposition': 'A',\n",
       "  'formType': '5',\n",
       "  'securitiesTransacted': 37500,\n",
       "  'price': 2.59,\n",
       "  'securityName': 'Option to purchase',\n",
       "  'link': 'https://www.sec.gov/Archives/edgar/data/1397572/000101968707001186/0001019687-07-001186-index.htm'},\n",
       " {'symbol': 'TKO',\n",
       "  'filingDate': '2007-04-25 17:09:10',\n",
       "  'transactionDate': '2006-12-31',\n",
       "  'reportingCik': '0001397572',\n",
       "  'transactionType': '',\n",
       "  'securitiesOwned': 1000,\n",
       "  'companyCik': '0001094084',\n",
       "  'reportingName': 'Leimbach Richard J',\n",
       "  'typeOfOwner': 'officer: Vice President Finance',\n",
       "  'acquistionOrDisposition': 'D',\n",
       "  'formType': '5',\n",
       "  'securitiesTransacted': 0,\n",
       "  'price': 0,\n",
       "  'securityName': 'Common Stock par value $0.001',\n",
       "  'link': 'https://www.sec.gov/Archives/edgar/data/1397572/000101968707001186/0001019687-07-001186-index.htm'},\n",
       " {'symbol': 'TKO',\n",
       "  'filingDate': '2007-04-25 17:08:26',\n",
       "  'transactionDate': '2007-03-16',\n",
       "  'reportingCik': '0001397567',\n",
       "  'transactionType': 'A-Award',\n",
       "  'securitiesOwned': 150000,\n",
       "  'companyCik': '0001094084',\n",
       "  'reportingName': 'Peeler James L',\n",
       "  'typeOfOwner': 'director',\n",
       "  'acquistionOrDisposition': 'A',\n",
       "  'formType': '5',\n",
       "  'securitiesTransacted': 40000,\n",
       "  'price': 2.78,\n",
       "  'securityName': 'Option to purchase',\n",
       "  'link': 'https://www.sec.gov/Archives/edgar/data/1397567/000101968707001185/0001019687-07-001185-index.htm'},\n",
       " {'symbol': 'TKO',\n",
       "  'filingDate': '2007-04-25 17:08:26',\n",
       "  'transactionDate': '2007-03-16',\n",
       "  'reportingCik': '0001397567',\n",
       "  'transactionType': 'A-Award',\n",
       "  'securitiesOwned': 110000,\n",
       "  'companyCik': '0001094084',\n",
       "  'reportingName': 'Peeler James L',\n",
       "  'typeOfOwner': 'director',\n",
       "  'acquistionOrDisposition': 'A',\n",
       "  'formType': '5',\n",
       "  'securitiesTransacted': 30000,\n",
       "  'price': 2.78,\n",
       "  'securityName': 'Option to purchase',\n",
       "  'link': 'https://www.sec.gov/Archives/edgar/data/1397567/000101968707001185/0001019687-07-001185-index.htm'},\n",
       " {'symbol': 'TKO',\n",
       "  'filingDate': '2007-04-25 17:07:41',\n",
       "  'transactionDate': '2005-04-01',\n",
       "  'reportingCik': '0001397567',\n",
       "  'transactionType': 'A-Award',\n",
       "  'securitiesOwned': 80000,\n",
       "  'companyCik': '0001094084',\n",
       "  'reportingName': 'Peeler James L',\n",
       "  'typeOfOwner': 'director',\n",
       "  'acquistionOrDisposition': 'A',\n",
       "  'formType': '5',\n",
       "  'securitiesTransacted': 40000,\n",
       "  'price': 3.45,\n",
       "  'securityName': 'Option to purchase',\n",
       "  'link': 'https://www.sec.gov/Archives/edgar/data/1397567/000101968707001184/0001019687-07-001184-index.htm'},\n",
       " {'symbol': 'TKO',\n",
       "  'filingDate': '2007-04-25 17:07:41',\n",
       "  'transactionDate': '2004-04-01',\n",
       "  'reportingCik': '0001397567',\n",
       "  'transactionType': 'A-Award',\n",
       "  'securitiesOwned': 40000,\n",
       "  'companyCik': '0001094084',\n",
       "  'reportingName': 'Peeler James L',\n",
       "  'typeOfOwner': 'director',\n",
       "  'acquistionOrDisposition': 'A',\n",
       "  'formType': '5',\n",
       "  'securitiesTransacted': 40000,\n",
       "  'price': 3.45,\n",
       "  'securityName': 'Option to purchase',\n",
       "  'link': 'https://www.sec.gov/Archives/edgar/data/1397567/000101968707001184/0001019687-07-001184-index.htm'},\n",
       " {'symbol': 'TKO',\n",
       "  'filingDate': '2007-04-25 17:07:41',\n",
       "  'transactionDate': '2006-12-31',\n",
       "  'reportingCik': '0001397567',\n",
       "  'transactionType': '',\n",
       "  'securitiesOwned': 4400,\n",
       "  'companyCik': '0001094084',\n",
       "  'reportingName': 'Peeler James L',\n",
       "  'typeOfOwner': 'director',\n",
       "  'acquistionOrDisposition': 'D',\n",
       "  'formType': '5',\n",
       "  'securitiesTransacted': 0,\n",
       "  'price': 0,\n",
       "  'securityName': 'Common Stock par value $0.001',\n",
       "  'link': 'https://www.sec.gov/Archives/edgar/data/1397567/000101968707001184/0001019687-07-001184-index.htm'},\n",
       " {'symbol': 'TKO',\n",
       "  'filingDate': '2007-04-25 17:07:07',\n",
       "  'transactionDate': '2007-03-16',\n",
       "  'reportingCik': '0001304354',\n",
       "  'transactionType': 'A-Award',\n",
       "  'securitiesOwned': 150000,\n",
       "  'companyCik': '0001094084',\n",
       "  'reportingName': 'Hall Thomas M',\n",
       "  'typeOfOwner': 'director',\n",
       "  'acquistionOrDisposition': 'A',\n",
       "  'formType': '5',\n",
       "  'securitiesTransacted': 40000,\n",
       "  'price': 2.78,\n",
       "  'securityName': 'Option to purchase',\n",
       "  'link': 'https://www.sec.gov/Archives/edgar/data/1304354/000101968707001183/0001019687-07-001183-index.htm'},\n",
       " {'symbol': 'TKO',\n",
       "  'filingDate': '2007-04-25 17:07:07',\n",
       "  'transactionDate': '2007-03-16',\n",
       "  'reportingCik': '0001304354',\n",
       "  'transactionType': 'A-Award',\n",
       "  'securitiesOwned': 110000,\n",
       "  'companyCik': '0001094084',\n",
       "  'reportingName': 'Hall Thomas M',\n",
       "  'typeOfOwner': 'director',\n",
       "  'acquistionOrDisposition': 'A',\n",
       "  'formType': '5',\n",
       "  'securitiesTransacted': 30000,\n",
       "  'price': 2.78,\n",
       "  'securityName': 'Option to purchase',\n",
       "  'link': 'https://www.sec.gov/Archives/edgar/data/1304354/000101968707001183/0001019687-07-001183-index.htm'},\n",
       " {'symbol': 'TKO',\n",
       "  'filingDate': '2007-04-25 17:06:37',\n",
       "  'transactionDate': '2006-12-31',\n",
       "  'reportingCik': '0001304354',\n",
       "  'transactionType': '',\n",
       "  'securitiesOwned': 504640,\n",
       "  'companyCik': '0001094084',\n",
       "  'reportingName': 'Hall Thomas M',\n",
       "  'typeOfOwner': 'director',\n",
       "  'acquistionOrDisposition': 'D',\n",
       "  'formType': '5',\n",
       "  'securitiesTransacted': 0,\n",
       "  'price': 0,\n",
       "  'securityName': 'Common Stock par value $0.001',\n",
       "  'link': 'https://www.sec.gov/Archives/edgar/data/1304354/000101968707001182/0001019687-07-001182-index.htm'},\n",
       " {'symbol': 'TKO',\n",
       "  'filingDate': '2007-04-25 17:06:37',\n",
       "  'transactionDate': '2004-04-20',\n",
       "  'reportingCik': '0001304354',\n",
       "  'transactionType': 'A-Award',\n",
       "  'securitiesOwned': 140000,\n",
       "  'companyCik': '0001094084',\n",
       "  'reportingName': 'Hall Thomas M',\n",
       "  'typeOfOwner': 'director',\n",
       "  'acquistionOrDisposition': 'A',\n",
       "  'formType': '5',\n",
       "  'securitiesTransacted': 40000,\n",
       "  'price': 3.45,\n",
       "  'securityName': 'Option to purchase',\n",
       "  'link': 'https://www.sec.gov/Archives/edgar/data/1304354/000101968707001182/0001019687-07-001182-index.htm'},\n",
       " {'symbol': 'TKO',\n",
       "  'filingDate': '2007-04-25 17:06:37',\n",
       "  'transactionDate': '2002-04-25',\n",
       "  'reportingCik': '0001304354',\n",
       "  'transactionType': 'J-Other',\n",
       "  'securitiesOwned': 100000,\n",
       "  'companyCik': '0001094084',\n",
       "  'reportingName': 'Hall Thomas M',\n",
       "  'typeOfOwner': 'director',\n",
       "  'acquistionOrDisposition': 'A',\n",
       "  'formType': '5',\n",
       "  'securitiesTransacted': 50000,\n",
       "  'price': 1,\n",
       "  'securityName': 'Option to purchase',\n",
       "  'link': 'https://www.sec.gov/Archives/edgar/data/1304354/000101968707001182/0001019687-07-001182-index.htm'},\n",
       " {'symbol': 'TKO',\n",
       "  'filingDate': '2007-04-25 17:06:37',\n",
       "  'transactionDate': '2005-04-01',\n",
       "  'reportingCik': '0001304354',\n",
       "  'transactionType': 'A-Award',\n",
       "  'securitiesOwned': 80000,\n",
       "  'companyCik': '0001094084',\n",
       "  'reportingName': 'Hall Thomas M',\n",
       "  'typeOfOwner': 'director',\n",
       "  'acquistionOrDisposition': 'A',\n",
       "  'formType': '5',\n",
       "  'securitiesTransacted': 40000,\n",
       "  'price': 3.45,\n",
       "  'securityName': 'Option to purchase',\n",
       "  'link': 'https://www.sec.gov/Archives/edgar/data/1304354/000101968707001182/0001019687-07-001182-index.htm'},\n",
       " {'symbol': 'TKO',\n",
       "  'filingDate': '2007-04-25 17:06:37',\n",
       "  'transactionDate': '2002-03-28',\n",
       "  'reportingCik': '0001304354',\n",
       "  'transactionType': 'J-Other',\n",
       "  'securitiesOwned': 50000,\n",
       "  'companyCik': '0001094084',\n",
       "  'reportingName': 'Hall Thomas M',\n",
       "  'typeOfOwner': 'director',\n",
       "  'acquistionOrDisposition': 'A',\n",
       "  'formType': '5',\n",
       "  'securitiesTransacted': 50000,\n",
       "  'price': 1,\n",
       "  'securityName': 'Option to purchase',\n",
       "  'link': 'https://www.sec.gov/Archives/edgar/data/1304354/000101968707001182/0001019687-07-001182-index.htm'},\n",
       " {'symbol': 'TKO',\n",
       "  'filingDate': '2007-04-25 17:06:04',\n",
       "  'transactionDate': '2007-03-16',\n",
       "  'reportingCik': '0001273662',\n",
       "  'transactionType': 'A-Award',\n",
       "  'securitiesOwned': 170000,\n",
       "  'companyCik': '0001094084',\n",
       "  'reportingName': 'LYNCH TOM',\n",
       "  'typeOfOwner': 'director',\n",
       "  'acquistionOrDisposition': 'A',\n",
       "  'formType': '5',\n",
       "  'securitiesTransacted': 40000,\n",
       "  'price': 2.78,\n",
       "  'securityName': 'Option to purchase',\n",
       "  'link': 'https://www.sec.gov/Archives/edgar/data/1273662/000101968707001181/0001019687-07-001181-index.htm'},\n",
       " {'symbol': 'TKO',\n",
       "  'filingDate': '2007-04-25 17:06:04',\n",
       "  'transactionDate': '2007-03-16',\n",
       "  'reportingCik': '0001273662',\n",
       "  'transactionType': 'A-Award',\n",
       "  'securitiesOwned': 130000,\n",
       "  'companyCik': '0001094084',\n",
       "  'reportingName': 'LYNCH TOM',\n",
       "  'typeOfOwner': 'director',\n",
       "  'acquistionOrDisposition': 'A',\n",
       "  'formType': '5',\n",
       "  'securitiesTransacted': 30000,\n",
       "  'price': 2.78,\n",
       "  'securityName': 'Option to purchase',\n",
       "  'link': 'https://www.sec.gov/Archives/edgar/data/1273662/000101968707001181/0001019687-07-001181-index.htm'},\n",
       " {'symbol': 'TKO',\n",
       "  'filingDate': '2007-04-25 17:05:19',\n",
       "  'transactionDate': '2005-04-01',\n",
       "  'reportingCik': '0001273662',\n",
       "  'transactionType': 'A-Award',\n",
       "  'securitiesOwned': 100000,\n",
       "  'companyCik': '0001094084',\n",
       "  'reportingName': 'LYNCH TOM',\n",
       "  'typeOfOwner': 'director',\n",
       "  'acquistionOrDisposition': 'A',\n",
       "  'formType': '5',\n",
       "  'securitiesTransacted': 40000,\n",
       "  'price': 3.45,\n",
       "  'securityName': 'Option to purchase',\n",
       "  'link': 'https://www.sec.gov/Archives/edgar/data/1273662/000101968707001180/0001019687-07-001180-index.htm'},\n",
       " {'symbol': 'TKO',\n",
       "  'filingDate': '2007-04-25 17:05:19',\n",
       "  'transactionDate': '2004-04-20',\n",
       "  'reportingCik': '0001273662',\n",
       "  'transactionType': 'A-Award',\n",
       "  'securitiesOwned': 60000,\n",
       "  'companyCik': '0001094084',\n",
       "  'reportingName': 'LYNCH TOM',\n",
       "  'typeOfOwner': 'director',\n",
       "  'acquistionOrDisposition': 'A',\n",
       "  'formType': '5',\n",
       "  'securitiesTransacted': 40000,\n",
       "  'price': 3.45,\n",
       "  'securityName': 'Option to purchase',\n",
       "  'link': 'https://www.sec.gov/Archives/edgar/data/1273662/000101968707001180/0001019687-07-001180-index.htm'},\n",
       " {'symbol': 'TKO',\n",
       "  'filingDate': '2007-04-25 17:05:19',\n",
       "  'transactionDate': '2003-10-01',\n",
       "  'reportingCik': '0001273662',\n",
       "  'transactionType': 'A-Award',\n",
       "  'securitiesOwned': 40000,\n",
       "  'companyCik': '0001094084',\n",
       "  'reportingName': 'LYNCH TOM',\n",
       "  'typeOfOwner': 'director',\n",
       "  'acquistionOrDisposition': 'A',\n",
       "  'formType': '5',\n",
       "  'securitiesTransacted': 40000,\n",
       "  'price': 2,\n",
       "  'securityName': 'Option to purchase',\n",
       "  'link': 'https://www.sec.gov/Archives/edgar/data/1273662/000101968707001180/0001019687-07-001180-index.htm'},\n",
       " {'symbol': 'TKO',\n",
       "  'filingDate': '2007-04-25 17:05:19',\n",
       "  'transactionDate': '2004-04-20',\n",
       "  'reportingCik': '0001273662',\n",
       "  'transactionType': 'A-Award',\n",
       "  'securitiesOwned': 20000,\n",
       "  'companyCik': '0001094084',\n",
       "  'reportingName': 'LYNCH TOM',\n",
       "  'typeOfOwner': 'director',\n",
       "  'acquistionOrDisposition': 'D',\n",
       "  'formType': '5',\n",
       "  'securitiesTransacted': 20000,\n",
       "  'price': 2,\n",
       "  'securityName': 'Option to purchase',\n",
       "  'link': 'https://www.sec.gov/Archives/edgar/data/1273662/000101968707001180/0001019687-07-001180-index.htm'},\n",
       " {'symbol': 'TKO',\n",
       "  'filingDate': '2007-04-25 17:05:19',\n",
       "  'transactionDate': '2006-12-31',\n",
       "  'reportingCik': '0001273662',\n",
       "  'transactionType': '',\n",
       "  'securitiesOwned': 0,\n",
       "  'companyCik': '0001094084',\n",
       "  'reportingName': 'LYNCH TOM',\n",
       "  'typeOfOwner': 'director',\n",
       "  'acquistionOrDisposition': 'D',\n",
       "  'formType': '5',\n",
       "  'securitiesTransacted': 0,\n",
       "  'price': 0,\n",
       "  'securityName': 'Common Stock par value $0.001',\n",
       "  'link': 'https://www.sec.gov/Archives/edgar/data/1273662/000101968707001180/0001019687-07-001180-index.htm'},\n",
       " {'symbol': 'TKO',\n",
       "  'filingDate': '2006-12-29 12:39:01',\n",
       "  'transactionDate': '2006-12-27',\n",
       "  'reportingCik': '0001273659',\n",
       "  'transactionType': 'G-Gift',\n",
       "  'securitiesOwned': 2649699,\n",
       "  'companyCik': '0001094084',\n",
       "  'reportingName': 'PICKETT RONALD W',\n",
       "  'typeOfOwner': 'director, officer: President & CEO',\n",
       "  'acquistionOrDisposition': 'D',\n",
       "  'formType': '4',\n",
       "  'securitiesTransacted': 50000,\n",
       "  'price': 2.78,\n",
       "  'securityName': 'Common Stock par value $0.001',\n",
       "  'link': 'https://www.sec.gov/Archives/edgar/data/1273659/000101968706003178/0001019687-06-003178-index.htm'},\n",
       " {'symbol': 'TKO',\n",
       "  'filingDate': '2006-12-29 12:39:01',\n",
       "  'transactionDate': '2006-12-27',\n",
       "  'reportingCik': '0001273659',\n",
       "  'transactionType': 'G-Gift',\n",
       "  'securitiesOwned': 2599699,\n",
       "  'companyCik': '0001094084',\n",
       "  'reportingName': 'PICKETT RONALD W',\n",
       "  'typeOfOwner': 'director, officer: President & CEO',\n",
       "  'acquistionOrDisposition': 'D',\n",
       "  'formType': '4',\n",
       "  'securitiesTransacted': 50000,\n",
       "  'price': 2.78,\n",
       "  'securityName': 'Common Stock par value $0.001',\n",
       "  'link': 'https://www.sec.gov/Archives/edgar/data/1273659/000101968706003178/0001019687-06-003178-index.htm'},\n",
       " {'symbol': 'TKO',\n",
       "  'filingDate': '2006-12-29 12:39:01',\n",
       "  'transactionDate': '2006-12-27',\n",
       "  'reportingCik': '0001273659',\n",
       "  'transactionType': 'G-Gift',\n",
       "  'securitiesOwned': 2574699,\n",
       "  'companyCik': '0001094084',\n",
       "  'reportingName': 'PICKETT RONALD W',\n",
       "  'typeOfOwner': 'director, officer: President & CEO',\n",
       "  'acquistionOrDisposition': 'D',\n",
       "  'formType': '4',\n",
       "  'securitiesTransacted': 25000,\n",
       "  'price': 2.78,\n",
       "  'securityName': 'Common Stock par value $0.001',\n",
       "  'link': 'https://www.sec.gov/Archives/edgar/data/1273659/000101968706003178/0001019687-06-003178-index.htm'},\n",
       " {'symbol': 'TKO',\n",
       "  'filingDate': '2006-12-28 16:07:36',\n",
       "  'transactionDate': '2006-12-26',\n",
       "  'reportingCik': '0001304354',\n",
       "  'transactionType': 'G-Gift',\n",
       "  'securitiesOwned': 567790,\n",
       "  'companyCik': '0001094084',\n",
       "  'reportingName': 'Hall Thomas M',\n",
       "  'typeOfOwner': 'director',\n",
       "  'acquistionOrDisposition': 'D',\n",
       "  'formType': '4',\n",
       "  'securitiesTransacted': 20000,\n",
       "  'price': 2.5,\n",
       "  'securityName': 'Common Stock par value $0.001',\n",
       "  'link': 'https://www.sec.gov/Archives/edgar/data/1304354/000101968706003173/0001019687-06-003173-index.htm'},\n",
       " {'symbol': 'TKO',\n",
       "  'filingDate': '2006-02-10 14:29:55',\n",
       "  'transactionDate': '2005-12-31',\n",
       "  'reportingCik': '0001273660',\n",
       "  'transactionType': '',\n",
       "  'securitiesOwned': 0,\n",
       "  'companyCik': '0001094084',\n",
       "  'reportingName': 'GRIMES DAVID W',\n",
       "  'typeOfOwner': 'director: ',\n",
       "  'acquistionOrDisposition': '',\n",
       "  'formType': '5',\n",
       "  'securitiesTransacted': 0,\n",
       "  'price': 0,\n",
       "  'securityName': '',\n",
       "  'link': 'https://www.sec.gov/Archives/edgar/data/1273660/000101968706000283/0001019687-06-000283-index.htm'},\n",
       " {'symbol': 'TKO',\n",
       "  'filingDate': '2006-02-10 14:29:03',\n",
       "  'transactionDate': '2002-07-26',\n",
       "  'reportingCik': '0001273660',\n",
       "  'transactionType': 'A-Award',\n",
       "  'securitiesOwned': 1000000,\n",
       "  'companyCik': '0001094084',\n",
       "  'reportingName': 'GRIMES DAVID W',\n",
       "  'typeOfOwner': 'director',\n",
       "  'acquistionOrDisposition': 'A',\n",
       "  'formType': '5',\n",
       "  'securitiesTransacted': 500000,\n",
       "  'price': 1,\n",
       "  'securityName': 'Call Option',\n",
       "  'link': 'https://www.sec.gov/Archives/edgar/data/1273660/000101968706000282/0001019687-06-000282-index.htm'},\n",
       " {'symbol': 'TKO',\n",
       "  'filingDate': '2006-02-10 14:29:03',\n",
       "  'transactionDate': '2003-01-01',\n",
       "  'reportingCik': '0001273660',\n",
       "  'transactionType': 'A-Award',\n",
       "  'securitiesOwned': 825000,\n",
       "  'companyCik': '0001094084',\n",
       "  'reportingName': 'GRIMES DAVID W',\n",
       "  'typeOfOwner': 'director',\n",
       "  'acquistionOrDisposition': 'A',\n",
       "  'formType': '5',\n",
       "  'securitiesTransacted': 825000,\n",
       "  'price': 1,\n",
       "  'securityName': 'Call Option',\n",
       "  'link': 'https://www.sec.gov/Archives/edgar/data/1273660/000101968706000282/0001019687-06-000282-index.htm'},\n",
       " {'symbol': 'TKO',\n",
       "  'filingDate': '2006-02-10 14:29:03',\n",
       "  'transactionDate': '2002-07-06',\n",
       "  'reportingCik': '0001273660',\n",
       "  'transactionType': 'A-Award',\n",
       "  'securitiesOwned': 500000,\n",
       "  'companyCik': '0001094084',\n",
       "  'reportingName': 'GRIMES DAVID W',\n",
       "  'typeOfOwner': 'director',\n",
       "  'acquistionOrDisposition': 'A',\n",
       "  'formType': '5',\n",
       "  'securitiesTransacted': 250000,\n",
       "  'price': 1,\n",
       "  'securityName': 'Call Option',\n",
       "  'link': 'https://www.sec.gov/Archives/edgar/data/1273660/000101968706000282/0001019687-06-000282-index.htm'},\n",
       " {'symbol': 'TKO',\n",
       "  'filingDate': '2006-02-10 14:29:03',\n",
       "  'transactionDate': '2002-06-06',\n",
       "  'reportingCik': '0001273660',\n",
       "  'transactionType': 'A-Award',\n",
       "  'securitiesOwned': 250000,\n",
       "  'companyCik': '0001094084',\n",
       "  'reportingName': 'GRIMES DAVID W',\n",
       "  'typeOfOwner': 'director',\n",
       "  'acquistionOrDisposition': 'A',\n",
       "  'formType': '5',\n",
       "  'securitiesTransacted': 250000,\n",
       "  'price': 1,\n",
       "  'securityName': 'Call Option',\n",
       "  'link': 'https://www.sec.gov/Archives/edgar/data/1273660/000101968706000282/0001019687-06-000282-index.htm'},\n",
       " {'symbol': 'TKO',\n",
       "  'filingDate': '2006-02-10 14:29:03',\n",
       "  'transactionDate': '2002-12-31',\n",
       "  'reportingCik': '0001273660',\n",
       "  'transactionType': 'H-ExpireLong',\n",
       "  'securitiesOwned': 0,\n",
       "  'companyCik': '0001094084',\n",
       "  'reportingName': 'GRIMES DAVID W',\n",
       "  'typeOfOwner': 'director',\n",
       "  'acquistionOrDisposition': 'D',\n",
       "  'formType': '5',\n",
       "  'securitiesTransacted': 1000000,\n",
       "  'price': 1,\n",
       "  'securityName': 'Call Option',\n",
       "  'link': 'https://www.sec.gov/Archives/edgar/data/1273660/000101968706000282/0001019687-06-000282-index.htm'},\n",
       " {'symbol': 'TKO',\n",
       "  'filingDate': '2005-12-29 17:49:10',\n",
       "  'transactionDate': '2005-12-29',\n",
       "  'reportingCik': '0001273659',\n",
       "  'transactionType': 'A-Award',\n",
       "  'securitiesOwned': 2757699,\n",
       "  'companyCik': '0001094084',\n",
       "  'reportingName': 'PICKETT RONALD W',\n",
       "  'typeOfOwner': 'director, officer: President',\n",
       "  'acquistionOrDisposition': 'A',\n",
       "  'formType': '4',\n",
       "  'securitiesTransacted': 200000,\n",
       "  'price': 1,\n",
       "  'securityName': 'Common Stock par value $0.001',\n",
       "  'link': 'https://www.sec.gov/Archives/edgar/data/1273659/000101968705003513/0001019687-05-003513-index.htm'},\n",
       " {'symbol': 'TKO',\n",
       "  'filingDate': '2005-12-29 17:49:10',\n",
       "  'transactionDate': '2005-12-29',\n",
       "  'reportingCik': '0001273659',\n",
       "  'transactionType': 'G-Gift',\n",
       "  'securitiesOwned': 2733699,\n",
       "  'companyCik': '0001094084',\n",
       "  'reportingName': 'PICKETT RONALD W',\n",
       "  'typeOfOwner': 'director, officer: President',\n",
       "  'acquistionOrDisposition': 'D',\n",
       "  'formType': '4',\n",
       "  'securitiesTransacted': 24000,\n",
       "  'price': 4.11,\n",
       "  'securityName': 'Common Stock par value $0.001',\n",
       "  'link': 'https://www.sec.gov/Archives/edgar/data/1273659/000101968705003513/0001019687-05-003513-index.htm'},\n",
       " {'symbol': 'TKO',\n",
       "  'filingDate': '2005-12-29 17:49:10',\n",
       "  'transactionDate': '2005-12-29',\n",
       "  'reportingCik': '0001273659',\n",
       "  'transactionType': 'G-Gift',\n",
       "  'securitiesOwned': 2709699,\n",
       "  'companyCik': '0001094084',\n",
       "  'reportingName': 'PICKETT RONALD W',\n",
       "  'typeOfOwner': 'director, officer: President',\n",
       "  'acquistionOrDisposition': 'D',\n",
       "  'formType': '4',\n",
       "  'securitiesTransacted': 24000,\n",
       "  'price': 4.11,\n",
       "  'securityName': 'Common Stock par value $0.001',\n",
       "  'link': 'https://www.sec.gov/Archives/edgar/data/1273659/000101968705003513/0001019687-05-003513-index.htm'},\n",
       " {'symbol': 'TKO',\n",
       "  'filingDate': '2005-12-29 17:49:10',\n",
       "  'transactionDate': '2005-12-29',\n",
       "  'reportingCik': '0001273659',\n",
       "  'transactionType': 'G-Gift',\n",
       "  'securitiesOwned': 2699699,\n",
       "  'companyCik': '0001094084',\n",
       "  'reportingName': 'PICKETT RONALD W',\n",
       "  'typeOfOwner': 'director, officer: President',\n",
       "  'acquistionOrDisposition': 'D',\n",
       "  'formType': '4',\n",
       "  'securitiesTransacted': 10000,\n",
       "  'price': 4.11,\n",
       "  'securityName': 'Common Stock par value $0.001',\n",
       "  'link': 'https://www.sec.gov/Archives/edgar/data/1273659/000101968705003513/0001019687-05-003513-index.htm'},\n",
       " {'symbol': 'TKO',\n",
       "  'filingDate': '2005-12-29 17:49:10',\n",
       "  'transactionDate': '2005-12-29',\n",
       "  'reportingCik': '0001273659',\n",
       "  'transactionType': 'A-Award',\n",
       "  'securitiesOwned': 2557699,\n",
       "  'companyCik': '0001094084',\n",
       "  'reportingName': 'PICKETT RONALD W',\n",
       "  'typeOfOwner': 'director, officer: President',\n",
       "  'acquistionOrDisposition': 'A',\n",
       "  'formType': '4',\n",
       "  'securitiesTransacted': 48858,\n",
       "  'price': 0.55,\n",
       "  'securityName': 'Common Stock par value $0.001',\n",
       "  'link': 'https://www.sec.gov/Archives/edgar/data/1273659/000101968705003513/0001019687-05-003513-index.htm'},\n",
       " {'symbol': 'TKO',\n",
       "  'filingDate': '2005-12-29 17:49:10',\n",
       "  'transactionDate': '2005-12-29',\n",
       "  'reportingCik': '0001273659',\n",
       "  'transactionType': 'A-Award',\n",
       "  'securitiesOwned': 2505841,\n",
       "  'companyCik': '0001094084',\n",
       "  'reportingName': 'PICKETT RONALD W',\n",
       "  'typeOfOwner': 'director, officer: President',\n",
       "  'acquistionOrDisposition': 'A',\n",
       "  'formType': '4',\n",
       "  'securitiesTransacted': 363636,\n",
       "  'price': 0.55,\n",
       "  'securityName': 'Common Stock par value $0.001',\n",
       "  'link': 'https://www.sec.gov/Archives/edgar/data/1273659/000101968705003513/0001019687-05-003513-index.htm'},\n",
       " {'symbol': 'TKO',\n",
       "  'filingDate': '2005-12-29 17:49:10',\n",
       "  'transactionDate': '2005-12-16',\n",
       "  'reportingCik': '0001273659',\n",
       "  'transactionType': 'A-Award',\n",
       "  'securitiesOwned': 2145205,\n",
       "  'companyCik': '0001094084',\n",
       "  'reportingName': 'PICKETT RONALD W',\n",
       "  'typeOfOwner': 'director, officer: President',\n",
       "  'acquistionOrDisposition': 'A',\n",
       "  'formType': '4',\n",
       "  'securitiesTransacted': 72000,\n",
       "  'price': 3.76,\n",
       "  'securityName': 'Common Stock par value $0.001',\n",
       "  'link': 'https://www.sec.gov/Archives/edgar/data/1273659/000101968705003513/0001019687-05-003513-index.htm'},\n",
       " {'symbol': 'TKO',\n",
       "  'filingDate': '2005-12-29 17:48:09',\n",
       "  'transactionDate': '2005-12-23',\n",
       "  'reportingCik': '0001304354',\n",
       "  'transactionType': 'G-Gift',\n",
       "  'securitiesOwned': 587790,\n",
       "  'companyCik': '0001094084',\n",
       "  'reportingName': 'Hall Thomas M',\n",
       "  'typeOfOwner': 'director',\n",
       "  'acquistionOrDisposition': 'D',\n",
       "  'formType': '4',\n",
       "  'securitiesTransacted': 5000,\n",
       "  'price': 1,\n",
       "  'securityName': 'Common Stock par value $0.001',\n",
       "  'link': 'https://www.sec.gov/Archives/edgar/data/1304354/000101968705003512/0001019687-05-003512-index.htm'},\n",
       " {'symbol': 'TKO',\n",
       "  'filingDate': '2005-04-28 17:51:22',\n",
       "  'transactionDate': '2005-04-25',\n",
       "  'reportingCik': '0001304354',\n",
       "  'transactionType': 'M-Exempt',\n",
       "  'securitiesOwned': 632790,\n",
       "  'companyCik': '0001094084',\n",
       "  'reportingName': 'Hall Thomas M',\n",
       "  'typeOfOwner': 'director',\n",
       "  'acquistionOrDisposition': 'A',\n",
       "  'formType': '4',\n",
       "  'securitiesTransacted': 36150,\n",
       "  'price': 1,\n",
       "  'securityName': 'Common Stock',\n",
       "  'link': 'https://www.sec.gov/Archives/edgar/data/1304354/000101968705001196/0001019687-05-001196-index.htm'},\n",
       " {'symbol': 'TKO',\n",
       "  'filingDate': '2005-04-07 17:49:13',\n",
       "  'transactionDate': '2005-03-25',\n",
       "  'reportingCik': '0001304354',\n",
       "  'transactionType': 'M-Exempt',\n",
       "  'securitiesOwned': 596640,\n",
       "  'companyCik': '0001094084',\n",
       "  'reportingName': 'Hall Thomas M',\n",
       "  'typeOfOwner': 'director',\n",
       "  'acquistionOrDisposition': 'A',\n",
       "  'formType': '4',\n",
       "  'securitiesTransacted': 50000,\n",
       "  'price': 1,\n",
       "  'securityName': 'Telkonet Common',\n",
       "  'link': 'https://www.sec.gov/Archives/edgar/data/1304354/000101968705000972/0001019687-05-000972-index.htm'},\n",
       " {'symbol': 'TKO',\n",
       "  'filingDate': '2005-04-07 17:49:13',\n",
       "  'transactionDate': '2005-03-25',\n",
       "  'reportingCik': '0001304354',\n",
       "  'transactionType': 'X-InTheMoney',\n",
       "  'securitiesOwned': 50000,\n",
       "  'companyCik': '0001094084',\n",
       "  'reportingName': 'Hall Thomas M',\n",
       "  'typeOfOwner': 'director',\n",
       "  'acquistionOrDisposition': 'A',\n",
       "  'formType': '4',\n",
       "  'securitiesTransacted': 50000,\n",
       "  'price': 1,\n",
       "  'securityName': 'Warrants',\n",
       "  'link': 'https://www.sec.gov/Archives/edgar/data/1304354/000101968705000972/0001019687-05-000972-index.htm'},\n",
       " {'symbol': 'TKO',\n",
       "  'filingDate': '2004-09-27 16:36:17',\n",
       "  'transactionDate': '2004-08-09',\n",
       "  'reportingCik': '0001304354',\n",
       "  'transactionType': 'P-Purchase',\n",
       "  'securitiesOwned': 506640,\n",
       "  'companyCik': '0001094084',\n",
       "  'reportingName': 'Hall Thomas M',\n",
       "  'typeOfOwner': 'director',\n",
       "  'acquistionOrDisposition': 'A',\n",
       "  'formType': '4',\n",
       "  'securitiesTransacted': 2000,\n",
       "  'price': 2.21,\n",
       "  'securityName': 'Telkonet Common',\n",
       "  'link': 'https://www.sec.gov/Archives/edgar/data/1304354/000101968704002134/0001019687-04-002134-index.htm'},\n",
       " {'symbol': 'TKO',\n",
       "  'filingDate': '2004-04-14 08:38:15',\n",
       "  'transactionDate': '2004-03-29',\n",
       "  'reportingCik': '0001273659',\n",
       "  'transactionType': 'P-Purchase',\n",
       "  'securitiesOwned': 2171863,\n",
       "  'companyCik': '0001094084',\n",
       "  'reportingName': 'PICKETT RONALD W',\n",
       "  'typeOfOwner': 'director, officer: President',\n",
       "  'acquistionOrDisposition': 'A',\n",
       "  'formType': '4',\n",
       "  'securitiesTransacted': 36000,\n",
       "  'price': 0,\n",
       "  'securityName': 'Common Stock',\n",
       "  'link': 'https://www.sec.gov/Archives/edgar/data/1273659/000101968704000791/0001019687-04-000791-index.htm'},\n",
       " {'symbol': 'TKO',\n",
       "  'filingDate': '2004-04-14 08:38:15',\n",
       "  'transactionDate': '2004-03-27',\n",
       "  'reportingCik': '0001273659',\n",
       "  'transactionType': 'P-Purchase',\n",
       "  'securitiesOwned': 2113707,\n",
       "  'companyCik': '0001094084',\n",
       "  'reportingName': 'PICKETT RONALD W',\n",
       "  'typeOfOwner': 'director, officer: President',\n",
       "  'acquistionOrDisposition': 'A',\n",
       "  'formType': '4',\n",
       "  'securitiesTransacted': 58156,\n",
       "  'price': 0,\n",
       "  'securityName': 'Common Stock',\n",
       "  'link': 'https://www.sec.gov/Archives/edgar/data/1273659/000101968704000791/0001019687-04-000791-index.htm'},\n",
       " {'symbol': 'TKO',\n",
       "  'filingDate': '2004-04-14 08:38:15',\n",
       "  'transactionDate': '2004-03-29',\n",
       "  'reportingCik': '0001273659',\n",
       "  'transactionType': 'G-Gift',\n",
       "  'securitiesOwned': 2011863,\n",
       "  'companyCik': '0001094084',\n",
       "  'reportingName': 'PICKETT RONALD W',\n",
       "  'typeOfOwner': 'director, officer: President',\n",
       "  'acquistionOrDisposition': 'D',\n",
       "  'formType': '4',\n",
       "  'securitiesTransacted': 160000,\n",
       "  'price': 0,\n",
       "  'securityName': 'Common Stock',\n",
       "  'link': 'https://www.sec.gov/Archives/edgar/data/1273659/000101968704000791/0001019687-04-000791-index.htm'}]"
      ]
     },
     "execution_count": 116,
     "metadata": {},
     "output_type": "execute_result"
    }
   ],
   "source": [
    "fmp.insider_trading(fmp_key,\"TKO\")"
   ]
  },
  {
   "cell_type": "code",
   "execution_count": null,
   "metadata": {},
   "outputs": [],
   "source": []
  }
 ],
 "metadata": {
  "kernelspec": {
   "display_name": "algotrading",
   "language": "python",
   "name": "python3"
  },
  "language_info": {
   "codemirror_mode": {
    "name": "ipython",
    "version": 3
   },
   "file_extension": ".py",
   "mimetype": "text/x-python",
   "name": "python",
   "nbconvert_exporter": "python",
   "pygments_lexer": "ipython3",
   "version": "3.10.0"
  }
 },
 "nbformat": 4,
 "nbformat_minor": 2
}
