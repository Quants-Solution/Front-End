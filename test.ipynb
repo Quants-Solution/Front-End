{
 "cells": [
  {
   "cell_type": "code",
   "execution_count": 6,
   "metadata": {},
   "outputs": [],
   "source": [
    "import fmpsdk as fmp\n",
    "import pandas as pd\n",
    "import os\n",
    "from dotenv import load_dotenv\n",
    "load_dotenv(\"./scripts/.env\")\n",
    "fmp_key = os.environ.get(\"FMP_KEY\")"
   ]
  },
  {
   "cell_type": "code",
   "execution_count": 7,
   "metadata": {},
   "outputs": [],
   "source": [
    "symbol=\"AMD\""
   ]
  },
  {
   "cell_type": "code",
   "execution_count": 8,
   "metadata": {},
   "outputs": [],
   "source": [
    "company_profile = fmp.company_profile(apikey=fmp_key, symbol=symbol)\n",
    "last = company_profile[0]['price']\n",
    "mcap = company_profile[0]['mktCap']\n",
    "industry = company_profile[0]['industry']"
   ]
  },
  {
   "cell_type": "code",
   "execution_count": 9,
   "metadata": {},
   "outputs": [
    {
     "data": {
      "text/plain": [
       "(167.14, 270063140600, 'Semiconductors')"
      ]
     },
     "execution_count": 9,
     "metadata": {},
     "output_type": "execute_result"
    }
   ],
   "source": [
    "last, mcap, industry"
   ]
  },
  {
   "cell_type": "code",
   "execution_count": 10,
   "metadata": {},
   "outputs": [],
   "source": [
    "# Retrieve key metrics\n",
    "key_metrics = fmp.key_metrics_ttm(apikey=fmp_key, symbol=symbol)\n",
    "eps_ttm = round(key_metrics[0]['netIncomePerShareTTM'], 2)\n",
    "pe_ttm = round(key_metrics[0]['peRatioTTM'], 2)"
   ]
  },
  {
   "cell_type": "code",
   "execution_count": 11,
   "metadata": {},
   "outputs": [
    {
     "data": {
      "text/plain": [
       "(0.52, 318.82)"
      ]
     },
     "execution_count": 11,
     "metadata": {},
     "output_type": "execute_result"
    }
   ],
   "source": [
    "eps_ttm, pe_ttm"
   ]
  },
  {
   "cell_type": "code",
   "execution_count": 12,
   "metadata": {},
   "outputs": [],
   "source": [
    "duration = \"quarter\""
   ]
  },
  {
   "cell_type": "code",
   "execution_count": 13,
   "metadata": {},
   "outputs": [],
   "source": [
    "# Retrieve income statement\n",
    "inc_statement = fmp.income_statement(apikey=fmp_key, symbol=symbol, period=duration)\n",
    "shares = inc_statement[0]['weightedAverageShsOut']\n",
    "net_income = inc_statement[0]['netIncome']"
   ]
  },
  {
   "cell_type": "code",
   "execution_count": 14,
   "metadata": {},
   "outputs": [],
   "source": [
    "# Retrieve balance sheet\n",
    "financials = fmp.balance_sheet_statement(apikey=fmp_key, symbol=symbol, period=duration)\n",
    "current_assets = financials[0]['cashAndShortTermInvestments'] + financials[0]['inventory'] + \\\n",
    "                    (financials[0]['netReceivables'] / 2) + financials[0]['otherCurrentAssets']\n",
    "cash_share = round(financials[0]['cashAndCashEquivalents'] / shares, 2)\n",
    "total_ratio = round(financials[0]['totalAssets'] / financials[0]['totalLiabilities'], 2)\n",
    "net_current_assets = current_assets - financials[0]['totalCurrentLiabilities']\n",
    "liability_share = round(financials[0]['totalCurrentLiabilities'] / shares, 2)\n",
    "tangible_assets = (financials[0]['propertyPlantEquipmentNet'] / 2) + net_current_assets\n",
    "inv_yield = round(net_income / mcap, 3)\n",
    "operating_margin = inc_statement[0]['operatingIncomeRatio']\n",
    "bvps = round(tangible_assets / shares, 2)\n",
    "bvps_price = bvps / last\n",
    "current_ratio = round(financials[0]['totalCurrentAssets'] / financials[0]['totalCurrentLiabilities'], 2)"
   ]
  },
  {
   "cell_type": "code",
   "execution_count": 15,
   "metadata": {},
   "outputs": [],
   "source": [
    "# Retrieve earnings surprise\n",
    "earnings = fmp.earnings_surprises(apikey=fmp_key, symbol=symbol)\n",
    "earning = pd.DataFrame.from_dict(earnings)\n",
    "earning.index = earning['date']\n",
    "earning = earning.drop(columns='date')\n",
    "earning = earning.sort_index()\n",
    "fq_eps = earning.iloc[-5:, 1].mean()"
   ]
  },
  {
   "cell_type": "code",
   "execution_count": 16,
   "metadata": {},
   "outputs": [],
   "source": [
    "# Create data frames\n",
    "company_health = {'BVPS': [bvps], 'Cash/share': [cash_share], 'liability_share': [liability_share],\n",
    "                    'EPS_ttm': [eps_ttm], 'fq_eps': [fq_eps], 'last': [last], 'industry': [industry]}\n",
    "company_valuation = {'BVPS/Price': [bvps_price], 'P/E': [pe_ttm], 'Inv_Yield': [inv_yield], 'last': [last],\n",
    "                        'Current_ratio': [current_ratio], 'Total_Ratio': [total_ratio], 'industry': [industry]}\n",
    "\n",
    "health_df = pd.DataFrame(company_health, index=[symbol])\n",
    "valuation_df = pd.DataFrame(company_valuation, index=[symbol])"
   ]
  },
  {
   "cell_type": "code",
   "execution_count": 17,
   "metadata": {},
   "outputs": [
    {
     "data": {
      "text/html": [
       "<div>\n",
       "<style scoped>\n",
       "    .dataframe tbody tr th:only-of-type {\n",
       "        vertical-align: middle;\n",
       "    }\n",
       "\n",
       "    .dataframe tbody tr th {\n",
       "        vertical-align: top;\n",
       "    }\n",
       "\n",
       "    .dataframe thead th {\n",
       "        text-align: right;\n",
       "    }\n",
       "</style>\n",
       "<table border=\"1\" class=\"dataframe\">\n",
       "  <thead>\n",
       "    <tr style=\"text-align: right;\">\n",
       "      <th></th>\n",
       "      <th>BVPS</th>\n",
       "      <th>Cash/share</th>\n",
       "      <th>liability_share</th>\n",
       "      <th>EPS_ttm</th>\n",
       "      <th>fq_eps</th>\n",
       "      <th>last</th>\n",
       "      <th>industry</th>\n",
       "    </tr>\n",
       "  </thead>\n",
       "  <tbody>\n",
       "    <tr>\n",
       "      <th>AMD</th>\n",
       "      <td>5.26</td>\n",
       "      <td>2.43</td>\n",
       "      <td>4.14</td>\n",
       "      <td>0.52</td>\n",
       "      <td>0.684</td>\n",
       "      <td>167.14</td>\n",
       "      <td>Semiconductors</td>\n",
       "    </tr>\n",
       "  </tbody>\n",
       "</table>\n",
       "</div>"
      ],
      "text/plain": [
       "     BVPS  Cash/share  liability_share  EPS_ttm  fq_eps    last  \\\n",
       "AMD  5.26        2.43             4.14     0.52   0.684  167.14   \n",
       "\n",
       "           industry  \n",
       "AMD  Semiconductors  "
      ]
     },
     "execution_count": 17,
     "metadata": {},
     "output_type": "execute_result"
    }
   ],
   "source": [
    "health_df"
   ]
  },
  {
   "cell_type": "code",
   "execution_count": 18,
   "metadata": {},
   "outputs": [
    {
     "data": {
      "text/plain": [
       "pandas.core.frame.DataFrame"
      ]
     },
     "execution_count": 18,
     "metadata": {},
     "output_type": "execute_result"
    }
   ],
   "source": [
    "type(valuation_df)"
   ]
  },
  {
   "cell_type": "code",
   "execution_count": null,
   "metadata": {},
   "outputs": [],
   "source": [
    "import fmpsdk as fmp\n",
    "import pandas as pd\n",
    "\n",
    "def get_company_data(symbol, duration):\n",
    "    fmp_key = 'd7772eac71bcd3ae5dac1dc4e58e0a5c'\n",
    "    \n",
    "    # Retrieve company profile\n",
    "    company_profile = fmp.company_profile(apikey=fmp_key, symbol=symbol)\n",
    "    last = company_profile[0]['price']\n",
    "    mcap = company_profile[0]['mktCap']\n",
    "    industry = company_profile[0]['industry']\n",
    "    \n",
    "    # Retrieve key metrics\n",
    "    key_metrics = fmp.key_metrics_ttm(apikey=fmp_key, symbol=symbol)\n",
    "    eps_ttm = round(key_metrics[0]['netIncomePerShareTTM'], 2)\n",
    "    pe_ttm = round(key_metrics[0]['peRatioTTM'], 2)\n",
    "    \n",
    "    # Retrieve income statement\n",
    "    inc_statement = fmp.income_statement(apikey=fmp_key, symbol=symbol, period=duration)\n",
    "    shares = inc_statement[0]['weightedAverageShsOut']\n",
    "    net_income = inc_statement[0]['netIncome']\n",
    "    \n",
    "    # Retrieve balance sheet\n",
    "    financials = fmp.balance_sheet_statement(apikey=fmp_key, symbol=symbol, period=duration)\n",
    "    current_assets = financials[0]['cashAndShortTermInvestments'] + financials[0]['inventory'] + \\\n",
    "                     (financials[0]['netReceivables'] / 2) + financials[0]['otherCurrentAssets']\n",
    "    cash_share = round(financials[0]['cashAndCashEquivalents'] / shares, 2)\n",
    "    total_ratio = round(financials[0]['totalAssets'] / financials[0]['totalLiabilities'], 2)\n",
    "    net_current_assets = current_assets - financials[0]['totalCurrentLiabilities']\n",
    "    liability_share = round(financials[0]['totalCurrentLiabilities'] / shares, 2)\n",
    "    tangible_assets = (financials[0]['propertyPlantEquipmentNet'] / 2) + net_current_assets\n",
    "    inv_yield = round(net_income / mcap, 3)\n",
    "    operating_margin = inc_statement[0]['operatingIncomeRatio']\n",
    "    bvps = round(tangible_assets / shares, 2)\n",
    "    bvps_price = bvps / last\n",
    "    current_ratio = round(financials[0]['totalCurrentAssets'] / financials[0]['totalCurrentLiabilities'], 2)\n",
    "    \n",
    "    # Retrieve earnings surprise\n",
    "    earnings = fmp.earnings_surprises(apikey=fmp_key, symbol=symbol)\n",
    "    earning = pd.DataFrame.from_dict(earnings)\n",
    "    earning.index = earning['date']\n",
    "    earning = earning.drop(columns='date')\n",
    "    earning = earning.sort_index()\n",
    "    fq_eps = earning.iloc[-5:, 1].mean()\n",
    "    \n",
    "    # Create data frames\n",
    "    company_health = {'BVPS': [bvps], 'Cash/share': [cash_share], 'liability_share': [liability_share],\n",
    "                      'EPS_ttm': [eps_ttm], 'fq_eps': [fq_eps], 'last': [last], 'industry': [industry]}\n",
    "    company_valuation = {'BVPS/Price': [bvps_price], 'P/E': [pe_ttm], 'Inv_Yield': [inv_yield], 'last': [last],\n",
    "                         'Current_ratio': [current_ratio], 'Total_Ratio': [total_ratio], 'industry': [industry]}\n",
    "    \n",
    "    health_df = pd.DataFrame(company_health, index=[symbol])\n",
    "    valuation_df = pd.DataFrame(company_valuation, index=[symbol])\n",
    "    \n",
    "    return health_df, valuation_df\n",
    "\n",
    "def concat_stocks(data_health, data_valuation, symbol, duration):\n",
    "    stock_health, stock_valuation = get_company_data(symbol, duration)\n",
    "    health_frame = pd.concat([data_health, stock_health])\n",
    "    valuation_frame = pd.concat([data_valuation, stock_valuation])\n",
    "    \n",
    "    return health_frame, valuation_frame\n",
    "\n",
    "# Example usage:\n",
    "symbol = 'AAPL'  # Example stock symbol\n",
    "duration = 'annual'  # Example duration\n",
    "\n",
    "# Initial data frames\n",
    "initial_health_df = pd.DataFrame()\n",
    "initial_valuation_df = pd.DataFrame()\n",
    "\n",
    "# Concatenating stocks\n",
    "final_health_df, final_valuation_df = concat_stocks(initial_health_df, initial_valuation_df, symbol, duration)"
   ]
  },
  {
   "cell_type": "code",
   "execution_count": null,
   "metadata": {},
   "outputs": [],
   "source": []
  }
 ],
 "metadata": {
  "kernelspec": {
   "display_name": "algotrading",
   "language": "python",
   "name": "python3"
  },
  "language_info": {
   "codemirror_mode": {
    "name": "ipython",
    "version": 3
   },
   "file_extension": ".py",
   "mimetype": "text/x-python",
   "name": "python",
   "nbconvert_exporter": "python",
   "pygments_lexer": "ipython3",
   "version": "3.10.0"
  }
 },
 "nbformat": 4,
 "nbformat_minor": 2
}
